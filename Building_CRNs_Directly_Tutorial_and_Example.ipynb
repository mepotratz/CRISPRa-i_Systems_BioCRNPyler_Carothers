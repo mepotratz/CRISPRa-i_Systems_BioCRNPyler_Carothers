{
  "nbformat": 4,
  "nbformat_minor": 0,
  "metadata": {
    "celltoolbar": "Slideshow",
    "kernelspec": {
      "display_name": "Python 3",
      "language": "python",
      "name": "python3"
    },
    "language_info": {
      "codemirror_mode": {
        "name": "ipython",
        "version": 3
      },
      "file_extension": ".py",
      "mimetype": "text/x-python",
      "name": "python",
      "nbconvert_exporter": "python",
      "pygments_lexer": "ipython3",
      "version": "3.7.4"
    },
    "colab": {
      "name": "Building CRNs Directly: Tutorial and Example.ipynb",
      "provenance": []
    }
  },
  "cells": [
    {
      "cell_type": "markdown",
      "metadata": {
        "id": "9WIssQ0qQdL9"
      },
      "source": [
        "# Building Chemical Reaction Networks (CRNs) Directly with BioCRNpyler\n",
        "\n",
        "**Overview:**  This tutorial shows how to use [BioCRNpyler](https://github.com/BuildACell/BioCRNPyler) to represent simple CRNs\n",
        "\n",
        "## What is a CRN?\n",
        "A CRN is a widely established model of chemistry and biochemistry.\n",
        "* A set of species $S$\n",
        "* A set of reactions $R$ interconvert species $I_r$ to $O_r$\n",
        "\n",
        "\\begin{align}\n",
        "\\\\\n",
        "I \\xrightarrow[]{\\rho(s)} O\n",
        "\\\\\n",
        "\\end{align}\n",
        "\n",
        " * $I$ and $O$ are multisets of species $S$. \n",
        " * $\\rho(s): S \\to \\mathbb{R}$ is a function that determines how fast the reaction occurs.\n"
      ]
    },
    {
      "cell_type": "code",
      "metadata": {
        "id": "7EBNQlseQdL_",
        "colab": {
          "base_uri": "https://localhost:8080/",
          "height": 567
        },
        "outputId": "ce2d0605-1b95-4431-ad6d-584f16026af1"
      },
      "source": [
        "#Import everything from biocrnpyler\n",
        "!pip install biocrnpyler[all]\n",
        "!pip install pandas\n",
        "from biocrnpyler import *"
      ],
      "execution_count": null,
      "outputs": [
        {
          "output_type": "stream",
          "text": [
            "Collecting biocrnpyler[all]\n",
            "\u001b[?25l  Downloading https://files.pythonhosted.org/packages/29/f8/7a815213ae88b472146118e3072626ae43addecfa4381ab421e4cf9a6113/biocrnpyler-1.0.2-py3-none-any.whl (107kB)\n",
            "\u001b[K     |████████████████████████████████| 112kB 2.8MB/s \n",
            "\u001b[?25hCollecting python-libsbml\n",
            "\u001b[?25l  Downloading https://files.pythonhosted.org/packages/c1/be/6f6bfbd153e4b3ccb32043897bf67d4639aaf4fbfbfa6b61237b473611bb/python_libsbml-5.18.3-cp36-cp36m-manylinux1_x86_64.whl (6.2MB)\n",
            "\u001b[K     |████████████████████████████████| 6.2MB 8.0MB/s \n",
            "\u001b[?25hRequirement already satisfied: matplotlib; extra == \"all\" in /usr/local/lib/python3.6/dist-packages (from biocrnpyler[all]) (3.2.2)\n",
            "Requirement already satisfied: bokeh>=1.4.0; extra == \"all\" in /usr/local/lib/python3.6/dist-packages (from biocrnpyler[all]) (2.1.1)\n",
            "Requirement already satisfied: networkx; extra == \"all\" in /usr/local/lib/python3.6/dist-packages (from biocrnpyler[all]) (2.5)\n",
            "Requirement already satisfied: numpy; extra == \"all\" in /usr/local/lib/python3.6/dist-packages (from biocrnpyler[all]) (1.18.5)\n",
            "Requirement already satisfied: fa2; extra == \"all\" in /usr/local/lib/python3.6/dist-packages (from biocrnpyler[all]) (0.3.5)\n",
            "Requirement already satisfied: kiwisolver>=1.0.1 in /usr/local/lib/python3.6/dist-packages (from matplotlib; extra == \"all\"->biocrnpyler[all]) (1.2.0)\n",
            "Requirement already satisfied: pyparsing!=2.0.4,!=2.1.2,!=2.1.6,>=2.0.1 in /usr/local/lib/python3.6/dist-packages (from matplotlib; extra == \"all\"->biocrnpyler[all]) (2.4.7)\n",
            "Requirement already satisfied: cycler>=0.10 in /usr/local/lib/python3.6/dist-packages (from matplotlib; extra == \"all\"->biocrnpyler[all]) (0.10.0)\n",
            "Requirement already satisfied: python-dateutil>=2.1 in /usr/local/lib/python3.6/dist-packages (from matplotlib; extra == \"all\"->biocrnpyler[all]) (2.8.1)\n",
            "Requirement already satisfied: PyYAML>=3.10 in /usr/local/lib/python3.6/dist-packages (from bokeh>=1.4.0; extra == \"all\"->biocrnpyler[all]) (3.13)\n",
            "Requirement already satisfied: typing-extensions>=3.7.4 in /usr/local/lib/python3.6/dist-packages (from bokeh>=1.4.0; extra == \"all\"->biocrnpyler[all]) (3.7.4.3)\n",
            "Requirement already satisfied: tornado>=5.1 in /usr/local/lib/python3.6/dist-packages (from bokeh>=1.4.0; extra == \"all\"->biocrnpyler[all]) (5.1.1)\n",
            "Requirement already satisfied: pillow>=4.0 in /usr/local/lib/python3.6/dist-packages (from bokeh>=1.4.0; extra == \"all\"->biocrnpyler[all]) (7.0.0)\n",
            "Requirement already satisfied: packaging>=16.8 in /usr/local/lib/python3.6/dist-packages (from bokeh>=1.4.0; extra == \"all\"->biocrnpyler[all]) (20.4)\n",
            "Requirement already satisfied: Jinja2>=2.7 in /usr/local/lib/python3.6/dist-packages (from bokeh>=1.4.0; extra == \"all\"->biocrnpyler[all]) (2.11.2)\n",
            "Requirement already satisfied: decorator>=4.3.0 in /usr/local/lib/python3.6/dist-packages (from networkx; extra == \"all\"->biocrnpyler[all]) (4.4.2)\n",
            "Requirement already satisfied: scipy in /usr/local/lib/python3.6/dist-packages (from fa2; extra == \"all\"->biocrnpyler[all]) (1.4.1)\n",
            "Requirement already satisfied: tqdm in /usr/local/lib/python3.6/dist-packages (from fa2; extra == \"all\"->biocrnpyler[all]) (4.41.1)\n",
            "Requirement already satisfied: six in /usr/local/lib/python3.6/dist-packages (from cycler>=0.10->matplotlib; extra == \"all\"->biocrnpyler[all]) (1.15.0)\n",
            "Requirement already satisfied: MarkupSafe>=0.23 in /usr/local/lib/python3.6/dist-packages (from Jinja2>=2.7->bokeh>=1.4.0; extra == \"all\"->biocrnpyler[all]) (1.1.1)\n",
            "Installing collected packages: python-libsbml, biocrnpyler\n",
            "Successfully installed biocrnpyler-1.0.2 python-libsbml-5.18.3\n",
            "Requirement already satisfied: pandas in /usr/local/lib/python3.6/dist-packages (1.1.2)\n",
            "Requirement already satisfied: numpy>=1.15.4 in /usr/local/lib/python3.6/dist-packages (from pandas) (1.18.5)\n",
            "Requirement already satisfied: python-dateutil>=2.7.3 in /usr/local/lib/python3.6/dist-packages (from pandas) (2.8.1)\n",
            "Requirement already satisfied: pytz>=2017.2 in /usr/local/lib/python3.6/dist-packages (from pandas) (2018.9)\n",
            "Requirement already satisfied: six>=1.5 in /usr/local/lib/python3.6/dist-packages (from python-dateutil>=2.7.3->pandas) (1.15.0)\n"
          ],
          "name": "stdout"
        }
      ]
    },
    {
      "cell_type": "markdown",
      "metadata": {
        "id": "Qe04TvyZQdMF"
      },
      "source": [
        "## Creating Species:\n",
        "Species are one of the central Objects used by BioCRNpyler. They represent the species of a CRN. Species are specified by their name (required) material_type (optional) , and attributes (optional) and can be displayed as strings. The combination of name, material type, and attributes uniquely identify each Species."
      ]
    },
    {
      "cell_type": "code",
      "metadata": {
        "id": "b6xc9uiaQdMH",
        "colab": {
          "base_uri": "https://localhost:8080/",
          "height": 33
        },
        "outputId": "a88fd42b-d76e-4130-bd78-b2fca9240257"
      },
      "source": [
        "A = Species(\"A\", material_type = \"m1\", attributes = [\"attribute1\", \"attribute2\"])\n",
        "print(A)"
      ],
      "execution_count": null,
      "outputs": [
        {
          "output_type": "stream",
          "text": [
            "m1_A_attribute1_attribute2\n"
          ],
          "name": "stdout"
        }
      ]
    },
    {
      "cell_type": "markdown",
      "metadata": {
        "id": "5zlZgaMIQdMN"
      },
      "source": [
        "A two species with the same name but different material types or attributes are different!"
      ]
    },
    {
      "cell_type": "code",
      "metadata": {
        "id": "iaMA32gPQdMO",
        "colab": {
          "base_uri": "https://localhost:8080/",
          "height": 50
        },
        "outputId": "7f10d7ce-a400-40fc-af61-21ef6d0bc573"
      },
      "source": [
        "A2 = Species(\"A\") #material_type and name are optional\n",
        "print(A2)\n",
        "print(A == A2)"
      ],
      "execution_count": null,
      "outputs": [
        {
          "output_type": "stream",
          "text": [
            "A\n",
            "False\n"
          ],
          "name": "stdout"
        }
      ]
    },
    {
      "cell_type": "markdown",
      "metadata": {
        "id": "-E1dFy0DQdMS"
      },
      "source": [
        "# Creating Complexes of Species\n",
        "Complexes are a subclass of Species useful for representing sets of two or more species that have bound together. Besides keeping track of their internal Species, Complexes behave equivalently to Species."
      ]
    },
    {
      "cell_type": "code",
      "metadata": {
        "id": "4RlYAIx6QdMT",
        "colab": {
          "base_uri": "https://localhost:8080/",
          "height": 67
        },
        "outputId": "8b49fbcc-4901-4596-8e06-df9cb5f175e4"
      },
      "source": [
        "A = Species(\"A\")\n",
        "B = Species(\"B\")\n",
        "\n",
        "#Order does not matter for Complexes by default\n",
        "C1 = Complex([A, B])\n",
        "print(\"Complex([A, B]):\", C1)\n",
        "\n",
        "C2 = Complex([B, A])\n",
        "print(\"Complex([B, A]):\", C2)\n",
        "\n",
        "print(\"C1 == C2?\", C1 == C2)"
      ],
      "execution_count": null,
      "outputs": [
        {
          "output_type": "stream",
          "text": [
            "Complex([A, B]): complex_A_B_\n",
            "Complex([B, A]): complex_A_B_\n",
            "C1 == C2? True\n"
          ],
          "name": "stdout"
        }
      ]
    },
    {
      "cell_type": "markdown",
      "metadata": {
        "id": "TFyIqCsUQdMX"
      },
      "source": [
        "# You can also make Ordered Complexes\n",
        "These are like Complexes, but the order matters."
      ]
    },
    {
      "cell_type": "code",
      "metadata": {
        "id": "5phkuXBeQdMX",
        "colab": {
          "base_uri": "https://localhost:8080/",
          "height": 67
        },
        "outputId": "c1bd1a02-3793-4e1d-ab5f-94cd45e8bf3c"
      },
      "source": [
        "#To make order matter, simply call the Complex function with order = True\n",
        "OC1 = Complex([A, B], ordered = True)\n",
        "print(\"Complex([A, B]):\", OC1)\n",
        "\n",
        "OC2 = Complex([B, A], ordered = True)\n",
        "print(\"Complex([B, A]):\", OC2)\n",
        "\n",
        "print(\"C1 == C2?\", OC1 == OC2)"
      ],
      "execution_count": null,
      "outputs": [
        {
          "output_type": "stream",
          "text": [
            "Complex([A, B]): ordered_complex_A_B_\n",
            "Complex([B, A]): ordered_complex_B_A_\n",
            "C1 == C2? False\n"
          ],
          "name": "stdout"
        }
      ]
    },
    {
      "cell_type": "markdown",
      "metadata": {
        "id": "v9dcivcRQdMc"
      },
      "source": [
        "# Creating Massaction Reactions\n",
        "Use the Reaction.from_massaction(Input_Species, Output_Species, k_forward) command to create a reaction."
      ]
    },
    {
      "cell_type": "code",
      "metadata": {
        "id": "QORSJRLKQdMd",
        "colab": {
          "base_uri": "https://localhost:8080/",
          "height": 100
        },
        "outputId": "173c0ddb-0afd-4aab-f617-24248d6286c1"
      },
      "source": [
        "#Create a reaction to 2A --> B\n",
        "R1 = Reaction.from_massaction([A, A], [B], k_forward = 1.0)\n",
        "\n",
        "#You can print a reaction in two ways\n",
        "print(R1) #Prints a simple representation of the reaction\n",
        "print(R1.pretty_print()) #Prints a much more detailed representation of the reaction"
      ],
      "execution_count": null,
      "outputs": [
        {
          "output_type": "stream",
          "text": [
            "2A --> B\n",
            "2A --> B\n",
            " Kf=k_forward * A^2\n",
            "  k_forward=1.0\n",
            "\n"
          ],
          "name": "stdout"
        }
      ]
    },
    {
      "cell_type": "markdown",
      "metadata": {
        "id": "XxFAbrfCQdMh"
      },
      "source": [
        "# Creating Reversible Massaction Reactions\n",
        "\n",
        "Use the Reaction.from_massaction(Input_Species, Output_Species, k_forward, k_reverse) command to create a reaction."
      ]
    },
    {
      "cell_type": "code",
      "metadata": {
        "id": "0FyZ_H7iQdMh",
        "colab": {
          "base_uri": "https://localhost:8080/",
          "height": 133
        },
        "outputId": "08961707-bd27-4113-f4ab-ae643981a8b6"
      },
      "source": [
        "#Create a reversible reaction to represent binding and unbinding of A and B to form C1\n",
        "R2 = Reaction.from_massaction([A, B], [C1], k_forward = 10.0, k_reverse = 2.0)\n",
        "\n",
        "#You can print a reaction in two ways\n",
        "print(R2) #Prints a simple representation of the reaction\n",
        "print(R2.pretty_print()) #Prints a much more detailed representation of the reaction"
      ],
      "execution_count": null,
      "outputs": [
        {
          "output_type": "stream",
          "text": [
            "A+B <--> complex[A:B]\n",
            "A+B <--> complex[A:B]\n",
            " Kf=k_forward * A * B\n",
            " Kr=k_reverse * complex_A_B_\n",
            "  k_forward=10.0\n",
            "  k_reverse=2.0\n",
            "\n"
          ],
          "name": "stdout"
        }
      ]
    },
    {
      "cell_type": "markdown",
      "metadata": {
        "id": "A6JZ53zyQdMk"
      },
      "source": [
        "# Creating a Chemical Reaction Network\n",
        "Use ChemicalReactionNetwork(species, reactions) which takes a list of Species and list of Reactions as inputs."
      ]
    },
    {
      "cell_type": "code",
      "metadata": {
        "id": "HWj0fVCIQdMl",
        "colab": {
          "base_uri": "https://localhost:8080/",
          "height": 250
        },
        "outputId": "01e54aa1-fc1a-46f1-cbcd-07cd78d1bb77"
      },
      "source": [
        "CRN = ChemicalReactionNetwork(species = [A, B, C1], reactions = [R1, R2])\n",
        "\n",
        "#print the CRN - you can toggle if you want to see there rates\n",
        "print(CRN.pretty_print(show_rates = True))"
      ],
      "execution_count": null,
      "outputs": [
        {
          "output_type": "stream",
          "text": [
            "Species (3) = {0. A init_conc = 0, 1. B init_conc = 0, 2. complex[A:B] init_conc = 0}\n",
            "\n",
            "Reactions (2) = [\n",
            "0. 2A --> B\n",
            " Kf=k_forward * A^2\n",
            "  k_forward=1.0\n",
            "\n",
            "1. A+B <--> complex[A:B]\n",
            " Kf=k_forward * A * B\n",
            " Kr=k_reverse * complex_A_B_\n",
            "  k_forward=10.0\n",
            "  k_reverse=2.0\n",
            "\n",
            "]\n"
          ],
          "name": "stdout"
        }
      ]
    },
    {
      "cell_type": "markdown",
      "metadata": {
        "id": "i8WV3TthQdMo"
      },
      "source": [
        "## CRNs can be saved as SBML and simulated\n",
        "\n",
        "To save a CRN as SBML:\n",
        "\n",
        "    CRN.write_sbml_file(\"file_name.xml\")\n",
        "\n",
        "To simulate a CRN with biosrape:\n",
        "\n",
        "    Results, Model = CRN_expression.simulate_with_bioscrape(timepoints, initial_condition_dict = x0)\n",
        "\n",
        "Where x0 is a dictionary: x0 = {str(species_name):initial_value}"
      ]
    },
    {
      "cell_type": "markdown",
      "metadata": {
        "id": "fdJmtVMSQ32v"
      },
      "source": [
        "# To run simulations, install Bioscrape simulator"
      ]
    },
    {
      "cell_type": "code",
      "metadata": {
        "id": "ox8KAYtCQ7LF",
        "colab": {
          "base_uri": "https://localhost:8080/",
          "height": 1000
        },
        "outputId": "f4cb389c-ae7f-4e62-8e57-9661788e9748"
      },
      "source": [
        "# Install emcee\n",
        "!pip install emcee\n",
        " \n",
        "# Install bioscrape\n",
        "!git clone https://github.com/biocircuits/bioscrape.git\n",
        "!(cd bioscrape; python setup.py install)\n",
        " \n",
        "# Make sure it worked\n",
        "import bioscrape"
      ],
      "execution_count": null,
      "outputs": [
        {
          "output_type": "stream",
          "text": [
            "Collecting emcee\n",
            "\u001b[?25l  Downloading https://files.pythonhosted.org/packages/97/f4/00151f5f843088337c6a53edd6cbb2df340f1044d23080c662f95219cc3f/emcee-3.0.2-py2.py3-none-any.whl (41kB)\n",
            "\r\u001b[K     |███████▉                        | 10kB 8.4MB/s eta 0:00:01\r\u001b[K     |███████████████▋                | 20kB 1.6MB/s eta 0:00:01\r\u001b[K     |███████████████████████▌        | 30kB 2.1MB/s eta 0:00:01\r\u001b[K     |███████████████████████████████▎| 40kB 1.6MB/s eta 0:00:01\r\u001b[K     |████████████████████████████████| 51kB 1.6MB/s \n",
            "\u001b[?25hRequirement already satisfied: numpy in /usr/local/lib/python3.6/dist-packages (from emcee) (1.18.5)\n",
            "Installing collected packages: emcee\n",
            "Successfully installed emcee-3.0.2\n",
            "Cloning into 'bioscrape'...\n",
            "remote: Enumerating objects: 40, done.\u001b[K\n",
            "remote: Counting objects: 100% (40/40), done.\u001b[K\n",
            "remote: Compressing objects: 100% (34/34), done.\u001b[K\n",
            "remote: Total 1648 (delta 17), reused 16 (delta 6), pack-reused 1608\u001b[K\n",
            "Receiving objects: 100% (1648/1648), 132.29 MiB | 23.25 MiB/s, done.\n",
            "Resolving deltas: 100% (1041/1041), done.\n",
            "Installing Bioscrape\n",
            "Compiling bioscrape/random.pyx because it changed.\n",
            "Compiling bioscrape/types.pyx because it changed.\n",
            "Compiling bioscrape/simulator.pyx because it changed.\n",
            "Compiling bioscrape/inference.pyx because it changed.\n",
            "[1/4] Cythonizing bioscrape/inference.pyx\n",
            "/usr/local/lib/python3.6/dist-packages/Cython/Compiler/Main.py:369: FutureWarning: Cython directive 'language_level' not set, using 2 for now (Py2). This will change in a later release! File: /content/bioscrape/bioscrape/inference.pxd\n",
            "  tree = Parsing.p_module(s, pxd, full_module_name)\n",
            "[2/4] Cythonizing bioscrape/random.pyx\n",
            "/usr/local/lib/python3.6/dist-packages/Cython/Compiler/Main.py:369: FutureWarning: Cython directive 'language_level' not set, using 2 for now (Py2). This will change in a later release! File: /content/bioscrape/bioscrape/random.pxd\n",
            "  tree = Parsing.p_module(s, pxd, full_module_name)\n",
            "[3/4] Cythonizing bioscrape/simulator.pyx\n",
            "/usr/local/lib/python3.6/dist-packages/Cython/Compiler/Main.py:369: FutureWarning: Cython directive 'language_level' not set, using 2 for now (Py2). This will change in a later release! File: /content/bioscrape/bioscrape/simulator.pxd\n",
            "  tree = Parsing.p_module(s, pxd, full_module_name)\n",
            "[4/4] Cythonizing bioscrape/types.pyx\n",
            "/usr/local/lib/python3.6/dist-packages/Cython/Compiler/Main.py:369: FutureWarning: Cython directive 'language_level' not set, using 2 for now (Py2). This will change in a later release! File: /content/bioscrape/bioscrape/types.pxd\n",
            "  tree = Parsing.p_module(s, pxd, full_module_name)\n",
            "warning: bioscrape/types.pyx:1780:32: the result of using negative indices inside of code sections marked as 'wraparound=False' is undefined\n",
            "warning: bioscrape/types.pyx:1786:32: the result of using negative indices inside of code sections marked as 'wraparound=False' is undefined\n",
            "warning: bioscrape/types.pyx:1795:40: the result of using negative indices inside of code sections marked as 'wraparound=False' is undefined\n",
            "warning: bioscrape/types.pyx:1802:40: the result of using negative indices inside of code sections marked as 'wraparound=False' is undefined\n",
            "warning: bioscrape/types.pyx:1911:44: the result of using negative indices inside of code sections marked as 'wraparound=False' is undefined\n",
            "/usr/lib/python3.6/distutils/dist.py:261: UserWarning: Unknown distribution option: 'zip_safe'\n",
            "  warnings.warn(msg)\n",
            "running install\n",
            "running build\n",
            "running build_py\n",
            "creating build\n",
            "creating build/lib.linux-x86_64-3.6\n",
            "creating build/lib.linux-x86_64-3.6/bioscrape\n",
            "copying bioscrape/pid_interfaces.py -> build/lib.linux-x86_64-3.6/bioscrape\n",
            "copying bioscrape/emcee_interface.py -> build/lib.linux-x86_64-3.6/bioscrape\n",
            "copying bioscrape/__init__.py -> build/lib.linux-x86_64-3.6/bioscrape\n",
            "copying bioscrape/sbmlutil.py -> build/lib.linux-x86_64-3.6/bioscrape\n",
            "copying bioscrape/types.pxd -> build/lib.linux-x86_64-3.6/bioscrape\n",
            "copying bioscrape/random.pxd -> build/lib.linux-x86_64-3.6/bioscrape\n",
            "copying bioscrape/vector.pxd -> build/lib.linux-x86_64-3.6/bioscrape\n",
            "copying bioscrape/inference.pxd -> build/lib.linux-x86_64-3.6/bioscrape\n",
            "copying bioscrape/simulator.pxd -> build/lib.linux-x86_64-3.6/bioscrape\n",
            "running build_ext\n",
            "building 'bioscrape.random' extension\n",
            "creating build/temp.linux-x86_64-3.6\n",
            "creating build/temp.linux-x86_64-3.6/bioscrape\n",
            "x86_64-linux-gnu-gcc -pthread -DNDEBUG -g -fwrapv -O2 -Wall -g -fstack-protector-strong -Wformat -Werror=format-security -Wdate-time -D_FORTIFY_SOURCE=2 -fPIC -I/usr/local/lib/python3.6/dist-packages/numpy/core/include -I. -I/usr/include/python3.6m -c bioscrape/random.cpp -o build/temp.linux-x86_64-3.6/bioscrape/random.o\n",
            "In file included from \u001b[01m\u001b[K/usr/local/lib/python3.6/dist-packages/numpy/core/include/numpy/ndarraytypes.h:1832:0\u001b[m\u001b[K,\n",
            "                 from \u001b[01m\u001b[K/usr/local/lib/python3.6/dist-packages/numpy/core/include/numpy/ndarrayobject.h:12\u001b[m\u001b[K,\n",
            "                 from \u001b[01m\u001b[K/usr/local/lib/python3.6/dist-packages/numpy/core/include/numpy/arrayobject.h:4\u001b[m\u001b[K,\n",
            "                 from \u001b[01m\u001b[Kbioscrape/random.cpp:647\u001b[m\u001b[K:\n",
            "\u001b[01m\u001b[K/usr/local/lib/python3.6/dist-packages/numpy/core/include/numpy/npy_1_7_deprecated_api.h:17:2:\u001b[m\u001b[K \u001b[01;35m\u001b[Kwarning: \u001b[m\u001b[K#warning \"Using deprecated NumPy API, disable it with \" \"#define NPY_NO_DEPRECATED_API NPY_1_7_API_VERSION\" [\u001b[01;35m\u001b[K-Wcpp\u001b[m\u001b[K]\n",
            " #\u001b[01;35m\u001b[Kwarning\u001b[m\u001b[K \"Using deprecated NumPy API, disable it with \" \\\n",
            "  \u001b[01;35m\u001b[K^~~~~~~\u001b[m\u001b[K\n",
            "\u001b[01m\u001b[Kbioscrape/random.cpp:\u001b[m\u001b[K In function ‘\u001b[01m\u001b[Klong long unsigned int __pyx_f_9bioscrape_6random_genrand64()\u001b[m\u001b[K’:\n",
            "\u001b[01m\u001b[Kbioscrape/random.cpp:2023:35:\u001b[m\u001b[K \u001b[01;35m\u001b[Kwarning: \u001b[m\u001b[Kcomparison between signed and unsigned integer expressions [\u001b[01;35m\u001b[K-Wsign-compare\u001b[m\u001b[K]\n",
            "     for (__pyx_t_4 = 0; \u001b[01;35m\u001b[K__pyx_t_4 < __pyx_t_3\u001b[m\u001b[K; __pyx_t_4+=1) {\n",
            "                         \u001b[01;35m\u001b[K~~~~~~~~~~^~~~~~~~~~~\u001b[m\u001b[K\n",
            "x86_64-linux-gnu-g++ -pthread -shared -Wl,-O1 -Wl,-Bsymbolic-functions -Wl,-Bsymbolic-functions -Wl,-z,relro -Wl,-Bsymbolic-functions -Wl,-z,relro -g -fstack-protector-strong -Wformat -Werror=format-security -Wdate-time -D_FORTIFY_SOURCE=2 build/temp.linux-x86_64-3.6/bioscrape/random.o -o build/lib.linux-x86_64-3.6/bioscrape/random.cpython-36m-x86_64-linux-gnu.so\n",
            "building 'bioscrape.types' extension\n",
            "x86_64-linux-gnu-gcc -pthread -DNDEBUG -g -fwrapv -O2 -Wall -g -fstack-protector-strong -Wformat -Werror=format-security -Wdate-time -D_FORTIFY_SOURCE=2 -fPIC -I/usr/local/lib/python3.6/dist-packages/numpy/core/include -I. -I/usr/include/python3.6m -c bioscrape/types.cpp -o build/temp.linux-x86_64-3.6/bioscrape/types.o\n",
            "In file included from \u001b[01m\u001b[K/usr/local/lib/python3.6/dist-packages/numpy/core/include/numpy/ndarraytypes.h:1832:0\u001b[m\u001b[K,\n",
            "                 from \u001b[01m\u001b[K/usr/local/lib/python3.6/dist-packages/numpy/core/include/numpy/ndarrayobject.h:12\u001b[m\u001b[K,\n",
            "                 from \u001b[01m\u001b[K/usr/local/lib/python3.6/dist-packages/numpy/core/include/numpy/arrayobject.h:4\u001b[m\u001b[K,\n",
            "                 from \u001b[01m\u001b[Kbioscrape/types.cpp:645\u001b[m\u001b[K:\n",
            "\u001b[01m\u001b[K/usr/local/lib/python3.6/dist-packages/numpy/core/include/numpy/npy_1_7_deprecated_api.h:17:2:\u001b[m\u001b[K \u001b[01;35m\u001b[Kwarning: \u001b[m\u001b[K#warning \"Using deprecated NumPy API, disable it with \" \"#define NPY_NO_DEPRECATED_API NPY_1_7_API_VERSION\" [\u001b[01;35m\u001b[K-Wcpp\u001b[m\u001b[K]\n",
            " #\u001b[01;35m\u001b[Kwarning\u001b[m\u001b[K \"Using deprecated NumPy API, disable it with \" \\\n",
            "  \u001b[01;35m\u001b[K^~~~~~~\u001b[m\u001b[K\n",
            "x86_64-linux-gnu-g++ -pthread -shared -Wl,-O1 -Wl,-Bsymbolic-functions -Wl,-Bsymbolic-functions -Wl,-z,relro -Wl,-Bsymbolic-functions -Wl,-z,relro -g -fstack-protector-strong -Wformat -Werror=format-security -Wdate-time -D_FORTIFY_SOURCE=2 build/temp.linux-x86_64-3.6/bioscrape/types.o -o build/lib.linux-x86_64-3.6/bioscrape/types.cpython-36m-x86_64-linux-gnu.so\n",
            "building 'bioscrape.simulator' extension\n",
            "x86_64-linux-gnu-gcc -pthread -DNDEBUG -g -fwrapv -O2 -Wall -g -fstack-protector-strong -Wformat -Werror=format-security -Wdate-time -D_FORTIFY_SOURCE=2 -fPIC -I/usr/local/lib/python3.6/dist-packages/numpy/core/include -I. -I/usr/include/python3.6m -c bioscrape/simulator.cpp -o build/temp.linux-x86_64-3.6/bioscrape/simulator.o\n",
            "In file included from \u001b[01m\u001b[K/usr/local/lib/python3.6/dist-packages/numpy/core/include/numpy/ndarraytypes.h:1832:0\u001b[m\u001b[K,\n",
            "                 from \u001b[01m\u001b[K/usr/local/lib/python3.6/dist-packages/numpy/core/include/numpy/ndarrayobject.h:12\u001b[m\u001b[K,\n",
            "                 from \u001b[01m\u001b[K/usr/local/lib/python3.6/dist-packages/numpy/core/include/numpy/arrayobject.h:4\u001b[m\u001b[K,\n",
            "                 from \u001b[01m\u001b[Kbioscrape/simulator.cpp:645\u001b[m\u001b[K:\n",
            "\u001b[01m\u001b[K/usr/local/lib/python3.6/dist-packages/numpy/core/include/numpy/npy_1_7_deprecated_api.h:17:2:\u001b[m\u001b[K \u001b[01;35m\u001b[Kwarning: \u001b[m\u001b[K#warning \"Using deprecated NumPy API, disable it with \" \"#define NPY_NO_DEPRECATED_API NPY_1_7_API_VERSION\" [\u001b[01;35m\u001b[K-Wcpp\u001b[m\u001b[K]\n",
            " #\u001b[01;35m\u001b[Kwarning\u001b[m\u001b[K \"Using deprecated NumPy API, disable it with \" \\\n",
            "  \u001b[01;35m\u001b[K^~~~~~~\u001b[m\u001b[K\n",
            "x86_64-linux-gnu-g++ -pthread -shared -Wl,-O1 -Wl,-Bsymbolic-functions -Wl,-Bsymbolic-functions -Wl,-z,relro -Wl,-Bsymbolic-functions -Wl,-z,relro -g -fstack-protector-strong -Wformat -Werror=format-security -Wdate-time -D_FORTIFY_SOURCE=2 build/temp.linux-x86_64-3.6/bioscrape/simulator.o -o build/lib.linux-x86_64-3.6/bioscrape/simulator.cpython-36m-x86_64-linux-gnu.so\n",
            "building 'bioscrape.inference' extension\n",
            "x86_64-linux-gnu-gcc -pthread -DNDEBUG -g -fwrapv -O2 -Wall -g -fstack-protector-strong -Wformat -Werror=format-security -Wdate-time -D_FORTIFY_SOURCE=2 -fPIC -I/usr/local/lib/python3.6/dist-packages/numpy/core/include -I. -I/usr/include/python3.6m -c bioscrape/inference.cpp -o build/temp.linux-x86_64-3.6/bioscrape/inference.o\n",
            "In file included from \u001b[01m\u001b[K/usr/local/lib/python3.6/dist-packages/numpy/core/include/numpy/ndarraytypes.h:1832:0\u001b[m\u001b[K,\n",
            "                 from \u001b[01m\u001b[K/usr/local/lib/python3.6/dist-packages/numpy/core/include/numpy/ndarrayobject.h:12\u001b[m\u001b[K,\n",
            "                 from \u001b[01m\u001b[K/usr/local/lib/python3.6/dist-packages/numpy/core/include/numpy/arrayobject.h:4\u001b[m\u001b[K,\n",
            "                 from \u001b[01m\u001b[Kbioscrape/inference.cpp:645\u001b[m\u001b[K:\n",
            "\u001b[01m\u001b[K/usr/local/lib/python3.6/dist-packages/numpy/core/include/numpy/npy_1_7_deprecated_api.h:17:2:\u001b[m\u001b[K \u001b[01;35m\u001b[Kwarning: \u001b[m\u001b[K#warning \"Using deprecated NumPy API, disable it with \" \"#define NPY_NO_DEPRECATED_API NPY_1_7_API_VERSION\" [\u001b[01;35m\u001b[K-Wcpp\u001b[m\u001b[K]\n",
            " #\u001b[01;35m\u001b[Kwarning\u001b[m\u001b[K \"Using deprecated NumPy API, disable it with \" \\\n",
            "  \u001b[01;35m\u001b[K^~~~~~~\u001b[m\u001b[K\n",
            "x86_64-linux-gnu-g++ -pthread -shared -Wl,-O1 -Wl,-Bsymbolic-functions -Wl,-Bsymbolic-functions -Wl,-z,relro -Wl,-Bsymbolic-functions -Wl,-z,relro -g -fstack-protector-strong -Wformat -Werror=format-security -Wdate-time -D_FORTIFY_SOURCE=2 build/temp.linux-x86_64-3.6/bioscrape/inference.o -o build/lib.linux-x86_64-3.6/bioscrape/inference.cpython-36m-x86_64-linux-gnu.so\n",
            "running install_lib\n",
            "creating /usr/local/lib/python3.6/dist-packages/bioscrape\n",
            "copying build/lib.linux-x86_64-3.6/bioscrape/types.pxd -> /usr/local/lib/python3.6/dist-packages/bioscrape\n",
            "copying build/lib.linux-x86_64-3.6/bioscrape/random.pxd -> /usr/local/lib/python3.6/dist-packages/bioscrape\n",
            "copying build/lib.linux-x86_64-3.6/bioscrape/types.cpython-36m-x86_64-linux-gnu.so -> /usr/local/lib/python3.6/dist-packages/bioscrape\n",
            "copying build/lib.linux-x86_64-3.6/bioscrape/inference.cpython-36m-x86_64-linux-gnu.so -> /usr/local/lib/python3.6/dist-packages/bioscrape\n",
            "copying build/lib.linux-x86_64-3.6/bioscrape/pid_interfaces.py -> /usr/local/lib/python3.6/dist-packages/bioscrape\n",
            "copying build/lib.linux-x86_64-3.6/bioscrape/vector.pxd -> /usr/local/lib/python3.6/dist-packages/bioscrape\n",
            "copying build/lib.linux-x86_64-3.6/bioscrape/emcee_interface.py -> /usr/local/lib/python3.6/dist-packages/bioscrape\n",
            "copying build/lib.linux-x86_64-3.6/bioscrape/__init__.py -> /usr/local/lib/python3.6/dist-packages/bioscrape\n",
            "copying build/lib.linux-x86_64-3.6/bioscrape/sbmlutil.py -> /usr/local/lib/python3.6/dist-packages/bioscrape\n",
            "copying build/lib.linux-x86_64-3.6/bioscrape/random.cpython-36m-x86_64-linux-gnu.so -> /usr/local/lib/python3.6/dist-packages/bioscrape\n",
            "copying build/lib.linux-x86_64-3.6/bioscrape/simulator.cpython-36m-x86_64-linux-gnu.so -> /usr/local/lib/python3.6/dist-packages/bioscrape\n",
            "copying build/lib.linux-x86_64-3.6/bioscrape/inference.pxd -> /usr/local/lib/python3.6/dist-packages/bioscrape\n",
            "copying build/lib.linux-x86_64-3.6/bioscrape/simulator.pxd -> /usr/local/lib/python3.6/dist-packages/bioscrape\n",
            "byte-compiling /usr/local/lib/python3.6/dist-packages/bioscrape/pid_interfaces.py to pid_interfaces.cpython-36.pyc\n",
            "byte-compiling /usr/local/lib/python3.6/dist-packages/bioscrape/emcee_interface.py to emcee_interface.cpython-36.pyc\n",
            "byte-compiling /usr/local/lib/python3.6/dist-packages/bioscrape/__init__.py to __init__.cpython-36.pyc\n",
            "byte-compiling /usr/local/lib/python3.6/dist-packages/bioscrape/sbmlutil.py to sbmlutil.cpython-36.pyc\n",
            "running install_egg_info\n",
            "Writing /usr/local/lib/python3.6/dist-packages/bioscrape-1.0.0.egg-info\n",
            "Installing Bioscrape Lineages\n",
            "Compiling lineage/lineage.pyx because it changed.\n",
            "[1/1] Cythonizing lineage/lineage.pyx\n",
            "/usr/local/lib/python3.6/dist-packages/Cython/Compiler/Main.py:369: FutureWarning: Cython directive 'language_level' not set, using 2 for now (Py2). This will change in a later release! File: /content/bioscrape/lineage/lineage.pyx\n",
            "  tree = Parsing.p_module(s, pxd, full_module_name)\n",
            "warning: lineage/lineage.pyx:730:32: Unreachable code\n",
            "warning: lineage/lineage.pyx:3028:39: the result of using negative indices inside of code sections marked as 'wraparound=False' is undefined\n",
            "running install\n",
            "running build\n",
            "running build_py\n",
            "package init file 'lineage/__init__.py' not found (or not a regular file)\n",
            "package init file 'lineage/__init__.py' not found (or not a regular file)\n",
            "running build_ext\n",
            "building 'bioscrape.lineage' extension\n",
            "creating build/temp.linux-x86_64-3.6/lineage\n",
            "x86_64-linux-gnu-gcc -pthread -DNDEBUG -g -fwrapv -O2 -Wall -g -fstack-protector-strong -Wformat -Werror=format-security -Wdate-time -D_FORTIFY_SOURCE=2 -fPIC -I/usr/local/lib/python3.6/dist-packages/numpy/core/include -I. -I/usr/include/python3.6m -c lineage/lineage.cpp -o build/temp.linux-x86_64-3.6/lineage/lineage.o\n",
            "In file included from \u001b[01m\u001b[K/usr/local/lib/python3.6/dist-packages/numpy/core/include/numpy/ndarraytypes.h:1832:0\u001b[m\u001b[K,\n",
            "                 from \u001b[01m\u001b[K/usr/local/lib/python3.6/dist-packages/numpy/core/include/numpy/ndarrayobject.h:12\u001b[m\u001b[K,\n",
            "                 from \u001b[01m\u001b[K/usr/local/lib/python3.6/dist-packages/numpy/core/include/numpy/arrayobject.h:4\u001b[m\u001b[K,\n",
            "                 from \u001b[01m\u001b[Klineage/lineage.cpp:646\u001b[m\u001b[K:\n",
            "\u001b[01m\u001b[K/usr/local/lib/python3.6/dist-packages/numpy/core/include/numpy/npy_1_7_deprecated_api.h:17:2:\u001b[m\u001b[K \u001b[01;35m\u001b[Kwarning: \u001b[m\u001b[K#warning \"Using deprecated NumPy API, disable it with \" \"#define NPY_NO_DEPRECATED_API NPY_1_7_API_VERSION\" [\u001b[01;35m\u001b[K-Wcpp\u001b[m\u001b[K]\n",
            " #\u001b[01;35m\u001b[Kwarning\u001b[m\u001b[K \"Using deprecated NumPy API, disable it with \" \\\n",
            "  \u001b[01;35m\u001b[K^~~~~~~\u001b[m\u001b[K\n",
            "\u001b[01m\u001b[Klineage/lineage.cpp:\u001b[m\u001b[K In function ‘\u001b[01m\u001b[Kdouble __pyx_f_9bioscrape_7lineage_20LineageCSimInterface_apply_volume_rules(__pyx_obj_9bioscrape_7lineage_LineageCSimInterface*, double*, double, double, double)\u001b[m\u001b[K’:\n",
            "\u001b[01m\u001b[Klineage/lineage.cpp:34481:33:\u001b[m\u001b[K \u001b[01;35m\u001b[Kwarning: \u001b[m\u001b[Kcomparison between signed and unsigned integer expressions [\u001b[01;35m\u001b[K-Wsign-compare\u001b[m\u001b[K]\n",
            "   for (__pyx_t_3 = 0; \u001b[01;35m\u001b[K__pyx_t_3 < __pyx_t_2\u001b[m\u001b[K; __pyx_t_3+=1) {\n",
            "                       \u001b[01;35m\u001b[K~~~~~~~~~~^~~~~~~~~~~\u001b[m\u001b[K\n",
            "\u001b[01m\u001b[Klineage/lineage.cpp:\u001b[m\u001b[K In function ‘\u001b[01m\u001b[Kint __pyx_f_9bioscrape_7lineage_20LineageCSimInterface_apply_death_rules(__pyx_obj_9bioscrape_7lineage_LineageCSimInterface*, double*, double, double, double, double)\u001b[m\u001b[K’:\n",
            "\u001b[01m\u001b[Klineage/lineage.cpp:34557:33:\u001b[m\u001b[K \u001b[01;35m\u001b[Kwarning: \u001b[m\u001b[Kcomparison between signed and unsigned integer expressions [\u001b[01;35m\u001b[K-Wsign-compare\u001b[m\u001b[K]\n",
            "   for (__pyx_t_3 = 0; \u001b[01;35m\u001b[K__pyx_t_3 < __pyx_t_2\u001b[m\u001b[K; __pyx_t_3+=1) {\n",
            "                       \u001b[01;35m\u001b[K~~~~~~~~~~^~~~~~~~~~~\u001b[m\u001b[K\n",
            "\u001b[01m\u001b[Klineage/lineage.cpp:\u001b[m\u001b[K In function ‘\u001b[01m\u001b[Kint __pyx_f_9bioscrape_7lineage_20LineageCSimInterface_apply_division_rules(__pyx_obj_9bioscrape_7lineage_LineageCSimInterface*, double*, double, double, double, double)\u001b[m\u001b[K’:\n",
            "\u001b[01m\u001b[Klineage/lineage.cpp:34662:33:\u001b[m\u001b[K \u001b[01;35m\u001b[Kwarning: \u001b[m\u001b[Kcomparison between signed and unsigned integer expressions [\u001b[01;35m\u001b[K-Wsign-compare\u001b[m\u001b[K]\n",
            "   for (__pyx_t_3 = 0; \u001b[01;35m\u001b[K__pyx_t_3 < __pyx_t_2\u001b[m\u001b[K; __pyx_t_3+=1) {\n",
            "                       \u001b[01;35m\u001b[K~~~~~~~~~~^~~~~~~~~~~\u001b[m\u001b[K\n",
            "\u001b[01m\u001b[Klineage/lineage.cpp:\u001b[m\u001b[K In function ‘\u001b[01m\u001b[KPyArrayObject* __pyx_f_9bioscrape_7lineage_20LineageCSimInterface_partition(__pyx_obj_9bioscrape_7lineage_LineageCSimInterface*, int, __pyx_obj_9bioscrape_7lineage_LineageVolumeCellState*)\u001b[m\u001b[K’:\n",
            "\u001b[01m\u001b[Klineage/lineage.cpp:34805:36:\u001b[m\u001b[K \u001b[01;35m\u001b[Kwarning: \u001b[m\u001b[Kcomparison between signed and unsigned integer expressions [\u001b[01;35m\u001b[K-Wsign-compare\u001b[m\u001b[K]\n",
            "   __pyx_t_2 = ((\u001b[01;35m\u001b[K__pyx_v_vsplit_ind >= __pyx_v_self->num_division_rules\u001b[m\u001b[K) != 0);\n",
            "                 \u001b[01;35m\u001b[K~~~~~~~~~~~~~~~~~~~^~~~~~~~~~~~~~~~~~~~~~~~~~~~~~~~~~~\u001b[m\u001b[K\n",
            "\u001b[01m\u001b[Klineage/lineage.cpp:34811:36:\u001b[m\u001b[K \u001b[01;35m\u001b[Kwarning: \u001b[m\u001b[Kcomparison between signed and unsigned integer expressions [\u001b[01;35m\u001b[K-Wsign-compare\u001b[m\u001b[K]\n",
            "   __pyx_t_2 = ((\u001b[01;35m\u001b[K__pyx_v_vsplit_ind < (__pyx_v_self->num_division_rules + __pyx_v_self->num_division_events)\u001b[m\u001b[K) != 0);\n",
            "                 \u001b[01;35m\u001b[K~~~~~~~~~~~~~~~~~~~^~~~~~~~~~~~~~~~~~~~~~~~~~~~~~~~~~~~~~~~~~~~~~~~~~~~~~~~~~~~~~~~~~~~~~~~\u001b[m\u001b[K\n",
            "\u001b[01m\u001b[Klineage/lineage.cpp:34859:36:\u001b[m\u001b[K \u001b[01;35m\u001b[Kwarning: \u001b[m\u001b[Kcomparison between signed and unsigned integer expressions [\u001b[01;35m\u001b[K-Wsign-compare\u001b[m\u001b[K]\n",
            "   __pyx_t_2 = ((\u001b[01;35m\u001b[K__pyx_v_vsplit_ind < __pyx_v_self->num_division_rules\u001b[m\u001b[K) != 0);\n",
            "                 \u001b[01;35m\u001b[K~~~~~~~~~~~~~~~~~~~^~~~~~~~~~~~~~~~~~~~~~~~~~~~~~~~~~\u001b[m\u001b[K\n",
            "\u001b[01m\u001b[Klineage/lineage.cpp:\u001b[m\u001b[K In function ‘\u001b[01m\u001b[KPyObject* __pyx_f_9bioscrape_7lineage_19LineageSSASimulator_PropagateCells(__pyx_obj_9bioscrape_7lineage_LineageSSASimulator*, PyObject*, __Pyx_memviewslice, __Pyx_memviewslice, unsigned int)\u001b[m\u001b[K’:\n",
            "\u001b[01m\u001b[Klineage/lineage.cpp:46289:27:\u001b[m\u001b[K \u001b[01;35m\u001b[Kwarning: \u001b[m\u001b[Kcomparison between signed and unsigned integer expressions [\u001b[01;35m\u001b[K-Wsign-compare\u001b[m\u001b[K]\n",
            "   __pyx_t_5 = ((\u001b[01;35m\u001b[K__pyx_t_6 < (__pyx_v_sample_times.shape[0])\u001b[m\u001b[K) != 0);\n",
            "                 \u001b[01;35m\u001b[K~~~~~~~~~~^~~~~~~~~~~~~~~~~~~~~~~~~~~~~~~~~\u001b[m\u001b[K\n",
            "\u001b[01m\u001b[Klineage/lineage.cpp:\u001b[m\u001b[K In function ‘\u001b[01m\u001b[K__pyx_obj_9bioscrape_7lineage_SingleCellSSAResult* __pyx_f_9bioscrape_7lineage_19LineageSSASimulator_SimulateSingleCell(__pyx_obj_9bioscrape_7lineage_LineageSSASimulator*, __pyx_obj_9bioscrape_7lineage_LineageVolumeCellState*, __Pyx_memviewslice, unsigned int)\u001b[m\u001b[K’:\n",
            "\u001b[01m\u001b[Klineage/lineage.cpp:41567:21:\u001b[m\u001b[K \u001b[01;35m\u001b[Kwarning: \u001b[m\u001b[K‘\u001b[01m\u001b[K__pyx_pybuffernd_dummy_r.__Pyx_LocalBuf_ND::diminfo[1].__Pyx_Buf_DimInfo::strides\u001b[m\u001b[K’ may be used uninitialized in this function [\u001b[01;35m\u001b[K-Wmaybe-uninitialized\u001b[m\u001b[K]\n",
            "   __Pyx_LocalBuf_ND \u001b[01;35m\u001b[K__pyx_pybuffernd_dummy_r\u001b[m\u001b[K;\n",
            "                     \u001b[01;35m\u001b[K^~~~~~~~~~~~~~~~~~~~~~~~\u001b[m\u001b[K\n",
            "x86_64-linux-gnu-g++ -pthread -shared -Wl,-O1 -Wl,-Bsymbolic-functions -Wl,-Bsymbolic-functions -Wl,-z,relro -Wl,-Bsymbolic-functions -Wl,-z,relro -g -fstack-protector-strong -Wformat -Werror=format-security -Wdate-time -D_FORTIFY_SOURCE=2 build/temp.linux-x86_64-3.6/lineage/lineage.o -o build/lib.linux-x86_64-3.6/bioscrape/lineage.cpython-36m-x86_64-linux-gnu.so\n",
            "running install_lib\n",
            "copying build/lib.linux-x86_64-3.6/bioscrape/lineage.cpython-36m-x86_64-linux-gnu.so -> /usr/local/lib/python3.6/dist-packages/bioscrape\n",
            "running install_egg_info\n",
            "Removing /usr/local/lib/python3.6/dist-packages/bioscrape-1.0.0.egg-info\n",
            "Writing /usr/local/lib/python3.6/dist-packages/bioscrape-1.0.0.egg-info\n"
          ],
          "name": "stdout"
        }
      ]
    },
    {
      "cell_type": "code",
      "metadata": {
        "id": "h8tu1inVQdMp",
        "colab": {
          "base_uri": "https://localhost:8080/",
          "height": 565
        },
        "outputId": "337bc5c2-d2cf-4c4a-920f-aa224799148e"
      },
      "source": [
        "%matplotlib inline\n",
        "\n",
        "#Saving and simulating a CRN\n",
        "CRN.write_sbml_file(\"crn1.xml\")\n",
        "\n",
        "#Simulating a CRN with Bioscrape\n",
        "try:\n",
        "    import bioscrape\n",
        "    import numpy as np\n",
        "    import pylab as plt\n",
        "    import pandas as pd\n",
        "    \n",
        "    #Initial conditions can be set with a dictionary:\n",
        "    x0 = {str(A):10}\n",
        "    timepoints = np.linspace(0, 5, 100)#Timepoints to simulate over\n",
        "    print(x0)  \n",
        "    print(timepoints)\n",
        "    #This function can also take a filename keyword to save the file at the same time\n",
        "    R = CRN.simulate_with_bioscrape_via_sbml(timepoints = timepoints, initial_condition_dict = x0)\n",
        "\n",
        "    #Check to ensure simulation worked\n",
        "    #Results are in a Pandas Dictionary and can be accessed via string-names of species\n",
        "    plt.plot(R['time'], R[str(A)], label = str(A))\n",
        "    plt.plot(R['time'], R[str(B)], label = str(B))\n",
        "    plt.plot(R['time'], R[str(C1)], label = str(C1))\n",
        "    plt.legend()\n",
        "    \n",
        "except ModuleNotFoundError:\n",
        "    print(\"Plotting Modules not installed.\")"
      ],
      "execution_count": null,
      "outputs": [
        {
          "output_type": "stream",
          "text": [
            "{'A': 10}\n",
            "[0.         0.05050505 0.1010101  0.15151515 0.2020202  0.25252525\n",
            " 0.3030303  0.35353535 0.4040404  0.45454545 0.50505051 0.55555556\n",
            " 0.60606061 0.65656566 0.70707071 0.75757576 0.80808081 0.85858586\n",
            " 0.90909091 0.95959596 1.01010101 1.06060606 1.11111111 1.16161616\n",
            " 1.21212121 1.26262626 1.31313131 1.36363636 1.41414141 1.46464646\n",
            " 1.51515152 1.56565657 1.61616162 1.66666667 1.71717172 1.76767677\n",
            " 1.81818182 1.86868687 1.91919192 1.96969697 2.02020202 2.07070707\n",
            " 2.12121212 2.17171717 2.22222222 2.27272727 2.32323232 2.37373737\n",
            " 2.42424242 2.47474747 2.52525253 2.57575758 2.62626263 2.67676768\n",
            " 2.72727273 2.77777778 2.82828283 2.87878788 2.92929293 2.97979798\n",
            " 3.03030303 3.08080808 3.13131313 3.18181818 3.23232323 3.28282828\n",
            " 3.33333333 3.38383838 3.43434343 3.48484848 3.53535354 3.58585859\n",
            " 3.63636364 3.68686869 3.73737374 3.78787879 3.83838384 3.88888889\n",
            " 3.93939394 3.98989899 4.04040404 4.09090909 4.14141414 4.19191919\n",
            " 4.24242424 4.29292929 4.34343434 4.39393939 4.44444444 4.49494949\n",
            " 4.54545455 4.5959596  4.64646465 4.6969697  4.74747475 4.7979798\n",
            " 4.84848485 4.8989899  4.94949495 5.        ]\n"
          ],
          "name": "stdout"
        },
        {
          "output_type": "display_data",
          "data": {
            "image/png": "[encoded data removed]",
            "text/plain": [
              "<Figure size 432x288 with 1 Axes>"
            ]
          },
          "metadata": {
            "tags": [],
            "needs_background": "light"
          }
        }
      ]
    },
    {
      "cell_type": "markdown",
      "metadata": {
        "id": "LGYjK0nZQdMt"
      },
      "source": [
        "# Non-massaction propensities in BioCRNpyler\n",
        "By default, BioCRNpyler assumes that propensities are massaction with only one parameter, the rate constant $k$. However, additional propensity types are also supported. These reactions are created in two steps: first a Propensity of the appropriate type is made, then Reaction is made using that Propensity. Examples are shown below:"
      ]
    },
    {
      "cell_type": "markdown",
      "metadata": {
        "id": "Ies_EqujQdMt"
      },
      "source": [
        "## HillPositive: $\\rho(s) = k \\frac{(\\frac{s}{K})^n}{1+(\\frac{s}{K})^n}$\n",
        "Requried parameters: rate constant \"k\", offset \"K\", hill coefficient \"n\", hill species \"s1\"."
      ]
    },
    {
      "cell_type": "code",
      "metadata": {
        "id": "s1x8gliuQdMu",
        "colab": {
          "base_uri": "https://localhost:8080/",
          "height": 117
        },
        "outputId": "b5eadc24-01d2-4849-ef46-a7474f5c737d"
      },
      "source": [
        "#create the propensity\n",
        "R = Species(\"Regulator\")\n",
        "hill_pos  = HillPositive(k=1, s1=R, K=5, n=2)\n",
        "\n",
        "#create the reaction\n",
        "r_hill_pos = Reaction([A], [B], propensity_type = hill_pos)\n",
        "\n",
        "#print the reaction\n",
        "print(r_hill_pos.pretty_print())"
      ],
      "execution_count": null,
      "outputs": [
        {
          "output_type": "stream",
          "text": [
            "A --> B\n",
            " Kf = k (Regulator/K)^n / (1+(Regulator/K)^n)\n",
            "  k=1\n",
            "  K=5\n",
            "  n=2\n",
            "\n"
          ],
          "name": "stdout"
        }
      ]
    },
    {
      "cell_type": "markdown",
      "metadata": {
        "id": "9Zs91Nv_QdMx"
      },
      "source": [
        "## HillNegative: $\\rho(s) = k \\frac{1}{1+(\\frac{s}{K})^n}$\n",
        "Requried parameters: rate constant \"k\", offset \"K\", hill coefficient \"n\", hill species \"s1\"."
      ]
    },
    {
      "cell_type": "code",
      "metadata": {
        "id": "HMd1sr7iQdMx",
        "colab": {
          "base_uri": "https://localhost:8080/",
          "height": 117
        },
        "outputId": "b11101ed-de40-40ca-f766-5c9094a9eb2d"
      },
      "source": [
        "#create the propensity\n",
        "R = Species(\"Regulator\")\n",
        "hill_neg  = HillPositive(k=1, s1=R, K=5, n=2)\n",
        "\n",
        "#create the reaction\n",
        "r_hill_neg = Reaction([A], [B], propensity_type = hill_neg)\n",
        "\n",
        "#print the reaction\n",
        "print(r_hill_neg.pretty_print())"
      ],
      "execution_count": null,
      "outputs": [
        {
          "output_type": "stream",
          "text": [
            "A --> B\n",
            " Kf = k (Regulator/K)^n / (1+(Regulator/K)^n)\n",
            "  k=1\n",
            "  K=5\n",
            "  n=2\n",
            "\n"
          ],
          "name": "stdout"
        }
      ]
    },
    {
      "cell_type": "markdown",
      "metadata": {
        "id": "cD8PAlQyQdM1"
      },
      "source": [
        "## ProportionalHillPositive: $\\rho(s, d) = k d \\frac{(\\frac{s}{K})^n}{1+(\\frac{s}{K})^n}$\n",
        "Requried parameters: rate constant \"k\", offset \"K\", hill coefficient \"n\", hill species \"s1\", proportional species \"d\""
      ]
    },
    {
      "cell_type": "code",
      "metadata": {
        "id": "jO8C8g1cQdM2",
        "colab": {
          "base_uri": "https://localhost:8080/",
          "height": 117
        },
        "outputId": "be1993d7-63bb-43b2-e43c-39f17876a24a"
      },
      "source": [
        "#create the propensity\n",
        "R = Species(\"Regulator\")\n",
        "D = Species(\"D\")\n",
        "prop_hill_pos  = ProportionalHillPositive(k=1, s1=R, K=5, n=2, d = D)\n",
        "\n",
        "#create the reaction\n",
        "r_prop_hill_pos = Reaction([A], [B], propensity_type = prop_hill_pos)\n",
        "\n",
        "#print the reaction\n",
        "print(r_prop_hill_pos.pretty_print())"
      ],
      "execution_count": null,
      "outputs": [
        {
          "output_type": "stream",
          "text": [
            "A --> B\n",
            " Kf = k D Regulator^n/(1+(Regulator/K)^n)\n",
            "  k=1\n",
            "  K=5\n",
            "  n=2\n",
            "\n"
          ],
          "name": "stdout"
        }
      ]
    },
    {
      "cell_type": "markdown",
      "metadata": {
        "id": "y7z9FtHAQdM5"
      },
      "source": [
        "## ProportionalHillNegative: $\\rho(s) = k \\frac{1}{1+(\\frac{s}{K})^n}$\n",
        "Requried parameters: rate constant \"k\", offset \"K\", hill coefficient \"n\", hill species \"s1\", proportional species \"d\""
      ]
    },
    {
      "cell_type": "code",
      "metadata": {
        "id": "oOtpIVk_QdM6",
        "colab": {
          "base_uri": "https://localhost:8080/",
          "height": 117
        },
        "outputId": "45cd4b3a-9e83-4ba2-cce8-e06678d457ee"
      },
      "source": [
        "#create the propensity\n",
        "R = Species(\"Regulator\")\n",
        "D = Species(\"D\")\n",
        "prop_hill_neg  = ProportionalHillNegative(k=1, s1=R, K=5, n=2, d = D)\n",
        "\n",
        "#create the reaction\n",
        "r_prop_hill_neg = Reaction([A], [B], propensity_type = prop_hill_neg)\n",
        "\n",
        "#print the reaction\n",
        "print(r_prop_hill_neg.pretty_print())"
      ],
      "execution_count": null,
      "outputs": [
        {
          "output_type": "stream",
          "text": [
            "A --> B\n",
            " Kf = k D / ( 1 + (Regulator/K)^2 )\n",
            "  k=1\n",
            "  K=5\n",
            "  n=2\n",
            "\n"
          ],
          "name": "stdout"
        }
      ]
    },
    {
      "cell_type": "markdown",
      "metadata": {
        "id": "FdlQoumtQdM8"
      },
      "source": [
        "# Excercise 1:\n",
        "### A. Create a CRN to simulate the following enzymatic reaction using massaction propensities: $A + C \\leftrightarrow A:C \\rightarrow C + B$\n",
        "(Note the first reaction is reversible and you can choose any rates $k_b$ and $k_u$. The second reaction isnt reversible and occurs at rate $k_{cat}$)\n",
        "### B. Create a different CRN to simulate the following enzymatic reaction using a ProportionalHillPositive Propensity: $A \\rightarrow B \\quad \\rho = k_{cat} C \\frac{\\frac{A}{K}}{1+\\frac{A}{K}}$ where $K = \\frac{k_u}{k_b}$\n",
        "### C. for what rates $k_u$, $k_b$, and $k_{cat}$ do the two models agree and disagree?"
      ]
    },
    {
      "cell_type": "code",
      "metadata": {
        "id": "xXl5wn9QDbKH",
        "colab": {
          "base_uri": "https://localhost:8080/",
          "height": 33
        },
        "outputId": "067b6da6-7125-4879-80c2-054c28f47377"
      },
      "source": [
        "# A\n",
        "A = Species(\"A\")\n",
        "B = Species(\"B\")\n",
        "C = Species(\"C\")\n",
        "\n",
        "AC = Complex([A, C])\n",
        "print(\"Complex([A, C]):\", AC)\n",
        "k_b=100\n",
        "k_u=3.0\n",
        "k_cat=1.0\n",
        "R1 = Reaction.from_massaction([A, C], [AC], k_forward = k_b, k_reverse=k_u)\n",
        "R2 = Reaction.from_massaction([AC], [C, B], k_forward=k_cat)\n",
        "\n"
      ],
      "execution_count": null,
      "outputs": [
        {
          "output_type": "stream",
          "text": [
            "Complex([A, C]): complex_A_C_\n"
          ],
          "name": "stdout"
        }
      ]
    },
    {
      "cell_type": "code",
      "metadata": {
        "id": "pyq-NRI9FyLH",
        "colab": {
          "base_uri": "https://localhost:8080/",
          "height": 250
        },
        "outputId": "452dc4e0-a116-42df-b9b6-9b740a9fe918"
      },
      "source": [
        "CRN = ChemicalReactionNetwork(species = [A, B, C, AC], reactions = [R1, R2])\n",
        "\n",
        "#print the CRN - you can toggle if you want to see there rates\n",
        "print(CRN.pretty_print(show_rates = True))"
      ],
      "execution_count": null,
      "outputs": [
        {
          "output_type": "stream",
          "text": [
            "Species (4) = {0. A init_conc = 0, 1. B init_conc = 0, 2. C init_conc = 0, 3. complex[A:C] init_conc = 0}\n",
            "\n",
            "Reactions (2) = [\n",
            "0. A+C <--> complex[A:C]\n",
            " Kf=k_forward * A * C\n",
            " Kr=k_reverse * complex_A_C_\n",
            "  k_forward=100\n",
            "  k_reverse=3.0\n",
            "\n",
            "1. complex[A:C] --> C+B\n",
            " Kf=k_forward * complex_A_C_\n",
            "  k_forward=1.0\n",
            "\n",
            "]\n"
          ],
          "name": "stdout"
        }
      ]
    },
    {
      "cell_type": "code",
      "metadata": {
        "id": "pfNB6jg9GDdS",
        "colab": {
          "base_uri": "https://localhost:8080/",
          "height": 265
        },
        "outputId": "45d82421-e30c-40c5-9a59-2c16c2abea84"
      },
      "source": [
        "CRN.write_sbml_file(\"exercise1.xml\")\n",
        "try:\n",
        "    import bioscrape\n",
        "    import numpy as np\n",
        "    import pylab as plt\n",
        "    import pandas as pd\n",
        "    \n",
        "    #Initial conditions can be set with a dictionary:\n",
        "    x0 = {str(A):10, str(C):5}\n",
        "\n",
        "    timepoints = np.linspace(0, 5, 100)#Timepoints to simulate over\n",
        "    \n",
        "    #This function can also take a filename keyword to save the file at the same time\n",
        "    R = CRN.simulate_with_bioscrape_via_sbml(timepoints = timepoints, initial_condition_dict = x0)\n",
        "\n",
        "    #Check to ensure simulation worked\n",
        "    #Results are in a Pandas Dictionary and can be accessed via string-names of species\n",
        "    plt.plot(R['time'], R[str(A)], label = str(A))\n",
        "    plt.plot(R['time'], R[str(B)], label = str(B))\n",
        "    plt.plot(R['time'], R[str(C)], label = str(C))\n",
        "    plt.plot(R['time'], R[str(AC)], label = str(AC))\n",
        "    plt.legend()\n",
        "    \n",
        "except ModuleNotFoundError:\n",
        "    print(\"Plotting Modules not installed.\")"
      ],
      "execution_count": null,
      "outputs": [
        {
          "output_type": "display_data",
          "data": {
            "image/png": "[encoded data removed]",
            "text/plain": [
              "<Figure size 432x288 with 1 Axes>"
            ]
          },
          "metadata": {
            "tags": [],
            "needs_background": "light"
          }
        }
      ]
    },
    {
      "cell_type": "code",
      "metadata": {
        "id": "_HvPJBSxoMZ5",
        "colab": {
          "base_uri": "https://localhost:8080/",
          "height": 133
        },
        "outputId": "5d1a0680-f21c-41bf-c0eb-ae1de740a358"
      },
      "source": [
        "#create the propensity\n",
        "prop_hill_pos  = ProportionalHillPositive(k=k_cat, s1=A, K=k_u/k_b, n=1, d = C)\n",
        "\n",
        "#create the reaction\n",
        "r_prop_hill_pos = Reaction([A], [B], propensity_type = prop_hill_pos)\n",
        "\n",
        "#print the reaction\n",
        "print(r_prop_hill_pos.pretty_print())\n",
        "print(prop_hill_pos)"
      ],
      "execution_count": null,
      "outputs": [
        {
          "output_type": "stream",
          "text": [
            "A --> B\n",
            " Kf = k C A^n/(1+(A/K)^n)\n",
            "  k=1.0\n",
            "  K=0.03\n",
            "  n=1\n",
            "\n",
            "<biocrnpyler.propensities.ProportionalHillPositive object at 0x7fd8d4ff1c50>\n"
          ],
          "name": "stdout"
        }
      ]
    },
    {
      "cell_type": "code",
      "metadata": {
        "id": "56RA7UgzrLnl",
        "colab": {
          "base_uri": "https://localhost:8080/",
          "height": 183
        },
        "outputId": "eff53011-3ec5-4a89-aa84-50ecb567358e"
      },
      "source": [
        "CRN = ChemicalReactionNetwork(species = [A, B, C], reactions = [r_prop_hill_pos])\n",
        "\n",
        "#print the CRN - you can toggle if you want to see there rates\n",
        "print(CRN.pretty_print(show_rates = True))"
      ],
      "execution_count": null,
      "outputs": [
        {
          "output_type": "stream",
          "text": [
            "Species (3) = {0. A init_conc = 0, 1. B init_conc = 0, 2. C init_conc = 0}\n",
            "\n",
            "Reactions (1) = [\n",
            "0. A --> B\n",
            " Kf = k C A^n/(1+(A/K)^n)\n",
            "  k=1.0\n",
            "  K=0.03\n",
            "  n=1\n",
            "\n",
            "]\n"
          ],
          "name": "stdout"
        }
      ]
    },
    {
      "cell_type": "code",
      "metadata": {
        "id": "MX7Q4eXasv7E",
        "colab": {
          "base_uri": "https://localhost:8080/",
          "height": 265
        },
        "outputId": "c284dbf1-7c5a-4d7e-e740-73529b75b7c8"
      },
      "source": [
        "CRN.write_sbml_file(\"exercise1b.xml\")\n",
        "try:\n",
        "    import bioscrape\n",
        "    import numpy as np\n",
        "    import pylab as plt\n",
        "    import pandas as pd\n",
        "    \n",
        "    #Initial conditions can be set with a dictionary:\n",
        "    x0 = {str(A):10, str(C):5}\n",
        "\n",
        "    timepoints = np.linspace(0, 5, 100)#Timepoints to simulate over\n",
        "    \n",
        "    #This function can also take a filename keyword to save the file at the same time\n",
        "    R = CRN.simulate_with_bioscrape_via_sbml(timepoints = timepoints, initial_condition_dict = x0)\n",
        "\n",
        "    #Check to ensure simulation worked\n",
        "    #Results are in a Pandas Dictionary and can be accessed via string-names of species\n",
        "    plt.plot(R['time'], R[str(A)], label = str(A))\n",
        "    plt.plot(R['time'], R[str(B)], label = str(B))\n",
        "    plt.plot(R['time'], R[str(C)], label = str(C))\n",
        "    plt.legend()\n",
        "    \n",
        "except ModuleNotFoundError:\n",
        "    print(\"Plotting Modules not installed.\")"
      ],
      "execution_count": null,
      "outputs": [
        {
          "output_type": "display_data",
          "data": {
            "image/png": "[encoded data removed]",
            "text/plain": [
              "<Figure size 432x288 with 1 Axes>"
            ]
          },
          "metadata": {
            "tags": [],
            "needs_background": "light"
          }
        }
      ]
    },
    {
      "cell_type": "markdown",
      "metadata": {
        "id": "nGqn8gVcQdM9"
      },
      "source": [
        "# Excercise 2:\n",
        "### A. Create a CRN to simulate the following model of transcriptional repression: $G + nR \\leftrightarrow G:nR \\quad G \\rightarrow G + T$\n",
        "\n",
        "(Note the first reaction is reversible binding of $n$ repressors $R$ to a promoter $G$. You can choose any rates $k_b$ and $k_u$ and any integer value of $n$. The second models transcription of $T$ from $G$ and occurs at rate $k_{tx}$.\n",
        "### B. Create a different CRN to simulate the following transcriptional repression reaction using a ProportionalHillNegative Propensity: $G \\rightarrow G + T \\quad \\rho = k_{tx} G \\frac{1}{1 + (\\frac{R}{K})^n}$ where $K = \\frac{k_u}{k_b}$. \n",
        "### C. for what rates $k_u$, $k_b$, and $k_{tx}$ do the two models agree and disagree?"
      ]
    },
    {
      "cell_type": "code",
      "metadata": {
        "id": "Fie4UUC7QdM9",
        "colab": {
          "base_uri": "https://localhost:8080/",
          "height": 33
        },
        "outputId": "57d6b2f7-3b55-468f-d274-a8f7ea2b2ced"
      },
      "source": [
        "G = Species(\"G\")\n",
        "n= Species(\"n\")\n",
        "nR = Species(\"nR\")\n",
        "T = Species(\"T\")\n",
        "\n",
        "GnR = Complex([G, nR])\n",
        "print(\"Complex([G, nR]):\", GnR)\n",
        "k_b1=0.5\n",
        "k_u1=1.0\n",
        "k_tx=1.0\n",
        "R1 = Reaction.from_massaction([G, nR], [GnR], k_forward = k_b1, k_reverse=k_u1)\n",
        "R2 = Reaction.from_massaction([G,n], [G, T], k_forward=k_tx)"
      ],
      "execution_count": null,
      "outputs": [
        {
          "output_type": "stream",
          "text": [
            "Complex([G, nR]): complex_G_nR_\n"
          ],
          "name": "stdout"
        }
      ]
    },
    {
      "cell_type": "code",
      "metadata": {
        "id": "oRYmb2z622ry",
        "colab": {
          "base_uri": "https://localhost:8080/",
          "height": 250
        },
        "outputId": "88a7c978-6302-4193-f048-d8907edf3c21"
      },
      "source": [
        "CRN = ChemicalReactionNetwork(species = [G, nR, n, GnR, T], reactions = [R1, R2])\n",
        "\n",
        "#print the CRN - you can toggle if you want to see there rates\n",
        "print(CRN.pretty_print(show_rates = True))"
      ],
      "execution_count": null,
      "outputs": [
        {
          "output_type": "stream",
          "text": [
            "Species (5) = {0. G init_conc = 0, 1. nR init_conc = 0, 2. n init_conc = 0, 3. complex[G:nR] init_conc = 0, 4. T init_conc = 0}\n",
            "\n",
            "Reactions (2) = [\n",
            "0. G+nR <--> complex[G:nR]\n",
            " Kf=k_forward * G * nR\n",
            " Kr=k_reverse * complex_G_nR_\n",
            "  k_forward=1.0\n",
            "  k_reverse=3.0\n",
            "\n",
            "1. G+n --> G+T\n",
            " Kf=k_forward * G * n\n",
            "  k_forward=2.0\n",
            "\n",
            "]\n"
          ],
          "name": "stdout"
        }
      ]
    },
    {
      "cell_type": "code",
      "metadata": {
        "id": "i3RxEKlv3CHB",
        "colab": {
          "base_uri": "https://localhost:8080/",
          "height": 265
        },
        "outputId": "a952f685-239f-4966-e436-003c888bd504"
      },
      "source": [
        "CRN.write_sbml_file(\"exercise2.xml\")\n",
        "try:\n",
        "    import bioscrape\n",
        "    import numpy as np\n",
        "    import pylab as plt\n",
        "    import pandas as pd\n",
        "    \n",
        "    #Initial conditions can be set with a dictionary:\n",
        "    x0 = {str(G):10, str(nR):5, str(n):20}\n",
        "\n",
        "    timepoints = np.linspace(0, 5, 100)#Timepoints to simulate over\n",
        "    \n",
        "    #This function can also take a filename keyword to save the file at the same time\n",
        "    R = CRN.simulate_with_bioscrape_via_sbml(timepoints = timepoints, initial_condition_dict = x0)\n",
        "\n",
        "    #Check to ensure simulation worked\n",
        "    #Results are in a Pandas Dictionary and can be accessed via string-names of species\n",
        "    plt.plot(R['time'], R[str(G)], label = str(G))\n",
        "    plt.plot(R['time'], R[str(nR)], label = str(nR))\n",
        "    plt.plot(R['time'], R[str(n)], label = str(n))\n",
        "    plt.plot(R['time'], R[str(GnR)], label = str(GnR))\n",
        "    plt.plot(R['time'], R[str(T)], label = str(T))\n",
        "    plt.legend()\n",
        "    #plt.yscale('log')\n",
        "except ModuleNotFoundError:\n",
        "    print(\"Plotting Modules not installed.\")"
      ],
      "execution_count": null,
      "outputs": [
        {
          "output_type": "display_data",
          "data": {
            "image/png": "[encoded data removed]",
            "text/plain": [
              "<Figure size 432x288 with 1 Axes>"
            ]
          },
          "metadata": {
            "tags": [],
            "needs_background": "light"
          }
        }
      ]
    },
    {
      "cell_type": "code",
      "metadata": {
        "id": "5DknYxMaaa7X",
        "colab": {
          "base_uri": "https://localhost:8080/",
          "height": 365
        },
        "outputId": "5423843f-bbf6-4a7a-ec26-59979a904dc6"
      },
      "source": [
        "G = Species(\"G\")\n",
        "T = Species(\"T\")\n",
        "Re = Species(\"Repressor\")\n",
        "\n",
        "k_b1=0.5\n",
        "k_u1=1.0\n",
        "k_tx=1.0\n",
        "K2=k_u1/k_b1\n",
        "\n",
        "prop_hill_negGT  = ProportionalHillNegative(k=k_tx, s1=Re, K=K2, n=2, d = G)\n",
        "\n",
        "#create the reaction\n",
        "r_prop_hill_negGT = Reaction([G], [G, T], propensity_type = prop_hill_negGT)\n",
        "\n",
        "#print the reaction\n",
        "print(r_prop_hill_negGT.pretty_print())\n",
        "\n",
        "CRN = ChemicalReactionNetwork(species = [G,T,Re], reactions = [r_prop_hill_negGT])\n",
        "\n",
        "CRN.write_sbml_file(\"exercise2hill.xml\")\n",
        "try:\n",
        "    import bioscrape\n",
        "    import numpy as np\n",
        "    import pylab as plt\n",
        "    import pandas as pd\n",
        "    \n",
        "    #Initial conditions can be set with a dictionary:\n",
        "    x0 = {str(G):10, str(Re):5}\n",
        "\n",
        "    timepoints = np.linspace(0, 5, 100)#Timepoints to simulate over\n",
        "    \n",
        "    #This function can also take a filename keyword to save the file at the same time\n",
        "    R = CRN.simulate_with_bioscrape_via_sbml(timepoints = timepoints, initial_condition_dict = x0)\n",
        "\n",
        "    #Check to ensure simulation worked\n",
        "    #Results are in a Pandas Dictionary and can be accessed via string-names of species\n",
        "    plt.plot(R['time'], R[str(G)], label = str(G))\n",
        "    plt.plot(R['time'], R[str(T)], label = str(T))\n",
        "    plt.plot(R['time'], R[str(Re)], label = str(Re))\n",
        "    plt.legend()\n",
        "    \n",
        "except ModuleNotFoundError:\n",
        "    print(\"Plotting Modules not installed.\")"
      ],
      "execution_count": null,
      "outputs": [
        {
          "output_type": "stream",
          "text": [
            "G --> G+T\n",
            " Kf = k G / ( 1 + (Repressor/K)^2 )\n",
            "  k=1.0\n",
            "  K=2.0\n",
            "  n=2\n",
            "\n"
          ],
          "name": "stdout"
        },
        {
          "output_type": "display_data",
          "data": {
            "image/png": "[encoded data removed]",
            "text/plain": [
              "<Figure size 432x288 with 1 Axes>"
            ]
          },
          "metadata": {
            "tags": [],
            "needs_background": "light"
          }
        }
      ]
    },
    {
      "cell_type": "markdown",
      "metadata": {
        "id": "sWr5CmXW__gr"
      },
      "source": [
        "Gene R_dna that is being transcribed into mRNA R_rna and translated into protein R_p. R_p is a repressor that weakly targets the promoter of gene R_p. Gene G_dna that is being expressed as fluorescent G_p which matures with rate 4 [1/s]. R_p targets the promoter of gene G_dna. \n",
        "--> How the production rate is changed with the binding affinity of Rp and G_dna. \n",
        "Unbound and bound R protein degrades at a constant rate of 1. What are the differences in production when we change the promoter of the R_dna gene so that R_p repressor cannot bind to the promotor?"
      ]
    },
    {
      "cell_type": "code",
      "metadata": {
        "id": "dOeDA-G9_8-R",
        "colab": {
          "base_uri": "https://localhost:8080/",
          "height": 503
        },
        "outputId": "7eaad91a-12f6-4c2b-afff-095c61327893"
      },
      "source": [
        "R_dna = Species(\"R_dna\")\n",
        "R_rna= Species(\"R_rna\")\n",
        "R_p = Species(\"R_p\")\n",
        "G_dna = Species(\"G_dna\")\n",
        "G_p = Species(\"G_p\")\n",
        "\n",
        "#simulating through mass action, so model repression as forming complex with the D\n",
        "RdRp = Complex([R_dna, R_p])\n",
        "print(\"Complex([R_dna, R_p]):\", RdRp)\n",
        "GdRp = Complex([G_dna, R_p])\n",
        "print(\"Complex([G_dna, R_p]):\", GdRp)\n",
        "k_weakrep=1.0\n",
        "k_weakreprev=3.0\n",
        "k_strongrep=10.0\n",
        "k_strongreprev=2.0\n",
        "k_Rrnagen=2.0\n",
        "k_Rpgen=2.0\n",
        "k_Gpgen=4.0\n",
        "k_Rpdeg=1.0\n",
        "R1 = Reaction.from_massaction([R_dna, R_p], [RdRp], k_forward = k_weakrep, k_reverse=k_weakreprev)\n",
        "R2 = Reaction.from_massaction([G_dna, R_p], [GdRp], k_forward = k_strongrep, k_reverse=k_strongreprev)\n",
        "R3 = Reaction.from_massaction([R_dna], [R_dna, R_rna], k_forward=k_Rrnagen)\n",
        "R4 = Reaction.from_massaction([R_rna], [R_rna, R_p], k_forward=k_Rpgen)\n",
        "R5 = Reaction.from_massaction([G_dna], [G_dna, G_p], k_forward=k_Gpgen)\n",
        "R6 = Reaction.from_massaction([R_p, R_p], [R_p], k_forward=k_Rpdeg)\n",
        "\n",
        "CRN = ChemicalReactionNetwork(species = [R_dna, R_rna, R_p, RdRp, G_dna, G_p, GdRp], reactions = [ R2, R3, R4, R5, R6])\n",
        "\n",
        "#print the CRN - you can toggle if you want to see there rates\n",
        "print(CRN.pretty_print(show_rates = True))"
      ],
      "execution_count": null,
      "outputs": [
        {
          "output_type": "stream",
          "text": [
            "Complex([R_dna, R_p]): complex_R_dna_R_p_\n",
            "Complex([G_dna, R_p]): complex_G_dna_R_p_\n",
            "Species (7) = {0. R_dna init_conc = 0, 1. R_rna init_conc = 0, 2. R_p init_conc = 0, 3. complex[R_dna:R_p] init_conc = 0, 4. G_dna init_conc = 0, 5. G_p init_conc = 0, 6. complex[G_dna:R_p] init_conc = 0}\n",
            "\n",
            "Reactions (5) = [\n",
            "0. G_dna+R_p <--> complex[G_dna:R_p]\n",
            " Kf=k_forward * G_dna * R_p\n",
            " Kr=k_reverse * complex_G_dna_R_p_\n",
            "  k_forward=10.0\n",
            "  k_reverse=2.0\n",
            "\n",
            "1. R_dna --> R_dna+R_rna\n",
            " Kf=k_forward * R_dna\n",
            "  k_forward=2.0\n",
            "\n",
            "2. R_rna --> R_rna+R_p\n",
            " Kf=k_forward * R_rna\n",
            "  k_forward=2.0\n",
            "\n",
            "3. G_dna --> G_dna+G_p\n",
            " Kf=k_forward * G_dna\n",
            "  k_forward=4.0\n",
            "\n",
            "4. 2R_p --> R_p\n",
            " Kf=k_forward * R_p^2\n",
            "  k_forward=1.0\n",
            "\n",
            "]\n"
          ],
          "name": "stdout"
        }
      ]
    },
    {
      "cell_type": "code",
      "metadata": {
        "id": "QJwPhR2lWWwd",
        "colab": {
          "base_uri": "https://localhost:8080/",
          "height": 281
        },
        "outputId": "07510566-932e-41e7-e4ba-e5bfcd3301a3"
      },
      "source": [
        "CRN.write_sbml_file(\"repression20_10_15.xml\")\n",
        "try:\n",
        "    import bioscrape\n",
        "    import numpy as np\n",
        "    import pylab as plt\n",
        "    import pandas as pd\n",
        "    \n",
        "    #Initial conditions can be set with a dictionary:\n",
        "    x0 = {str(G_dna):10, str(R_dna):10}\n",
        "\n",
        "    timepoints = np.linspace(0, 5, 100)#Timepoints to simulate over\n",
        "    \n",
        "    #This function can also take a filename keyword to save the file at the same time\n",
        "    R = CRN.simulate_with_bioscrape_via_sbml(timepoints = timepoints, initial_condition_dict = x0)\n",
        "\n",
        "    #Check to ensure simulation worked\n",
        "    #Results are in a Pandas Dictionary and can be accessed via string-names of species\n",
        "    plt.plot(R['time'], R[str(G_dna)], label = str(G_dna))\n",
        "    plt.plot(R['time'], R[str(G_p)], label = str(G_p))\n",
        "    plt.plot(R['time'], R[str(R_dna)], label = str(R_dna))\n",
        "    plt.plot(R['time'], R[str(R_rna)], label = str(R_rna))\n",
        "    plt.plot(R['time'], R[str(R_p)], label = str(R_p))\n",
        "    plt.legend()\n",
        "    plt.title(\"Behavior with no repression of R_dna\")\n",
        "    #plt.yscale('log')\n",
        "except ModuleNotFoundError:\n",
        "    print(\"Plotting Modules not installed.\")"
      ],
      "execution_count": null,
      "outputs": [
        {
          "output_type": "display_data",
          "data": {
            "image/png": "[encoded data removed]",
            "text/plain": [
              "<Figure size 432x288 with 1 Axes>"
            ]
          },
          "metadata": {
            "tags": [],
            "needs_background": "light"
          }
        }
      ]
    },
    {
      "cell_type": "code",
      "metadata": {
        "id": "poanABXyeuns",
        "colab": {
          "base_uri": "https://localhost:8080/",
          "height": 570
        },
        "outputId": "dd38f56d-21a6-4cc7-b038-1ffef63d8f9e"
      },
      "source": [
        "#create the propensity\n",
        "#k_Rrnagen1=k_Rrnagen*20\n",
        "#k_Gpgen1=k_Gpgen*20\n",
        "hill_neg_R  = ProportionalHillNegative(k=k_Rrnagen1, s1=R_p, K=k_weakrep/k_weakreprev, n=2, d=R_dna)\n",
        "hill_neg_G  = ProportionalHillNegative(k=k_Gpgen, s1=R_p, K=k_strongrep/k_strongreprev, n=2, d=G_dna)\n",
        "\n",
        "#create the reaction\n",
        "r_hill_neg_R = Reaction([R_dna], [R_dna, R_rna], propensity_type = hill_neg_R)\n",
        "r_hill_neg_G = Reaction([G_dna], [G_dna, G_p], propensity_type = hill_neg_G)\n",
        "\n",
        "#print the reaction\n",
        "#print(r_hill_neg_R.pretty_print())\n",
        "#print(r_hill_neg_G.pretty_print())\n",
        "\n",
        "CRN = ChemicalReactionNetwork(species = [R_dna, R_rna, R_p, RdRp, G_dna, G_p, GdRp], reactions = [r_hill_neg_R , r_hill_neg_G , R3, R4, R5, R6])\n",
        "\n",
        "#print the CRN - you can toggle if you want to see there rates\n",
        "print(CRN.pretty_print(show_rates = True))"
      ],
      "execution_count": null,
      "outputs": [
        {
          "output_type": "stream",
          "text": [
            "Species (7) = {0. R_dna init_conc = 0, 1. R_rna init_conc = 0, 2. R_p init_conc = 0, 3. complex[R_dna:R_p] init_conc = 0, 4. G_dna init_conc = 0, 5. G_p init_conc = 0, 6. complex[G_dna:R_p] init_conc = 0}\n",
            "\n",
            "Reactions (6) = [\n",
            "0. R_dna --> R_dna+R_rna\n",
            " Kf = k R_dna / ( 1 + (R_p/K)^2 )\n",
            "  k=40.0\n",
            "  K=0.3333333333333333\n",
            "  n=2\n",
            "\n",
            "1. G_dna --> G_dna+G_p\n",
            " Kf = k G_dna / ( 1 + (R_p/K)^2 )\n",
            "  k=4.0\n",
            "  K=5.0\n",
            "  n=2\n",
            "\n",
            "2. R_dna --> R_dna+R_rna\n",
            " Kf=k_forward * R_dna\n",
            "  k_forward=2.0\n",
            "\n",
            "3. R_rna --> R_rna+R_p\n",
            " Kf=k_forward * R_rna\n",
            "  k_forward=2.0\n",
            "\n",
            "4. G_dna --> G_dna+G_p\n",
            " Kf=k_forward * G_dna\n",
            "  k_forward=4.0\n",
            "\n",
            "5. 2R_p --> R_p\n",
            " Kf=k_forward * R_p^2\n",
            "  k_forward=1.0\n",
            "\n",
            "]\n"
          ],
          "name": "stdout"
        }
      ]
    },
    {
      "cell_type": "code",
      "metadata": {
        "id": "jZ00lZ7xkOVt",
        "colab": {
          "base_uri": "https://localhost:8080/",
          "height": 470
        },
        "outputId": "7ea2577d-5c06-42de-cf52-afa715eda2e7"
      },
      "source": [
        "CRN = ChemicalReactionNetwork(species = [R_dna, R_rna, R_p, RdRp, G_dna, G_p, GdRp], reactions = [ r_hill_neg_G , R3, R4, R5, R6])\n",
        "\n",
        "#print the CRN - you can toggle if you want to see there rates\n",
        "print(CRN.pretty_print(show_rates = True))"
      ],
      "execution_count": null,
      "outputs": [
        {
          "output_type": "stream",
          "text": [
            "Species (7) = {0. R_dna init_conc = 0, 1. R_rna init_conc = 0, 2. R_p init_conc = 0, 3. complex[R_dna:R_p] init_conc = 0, 4. G_dna init_conc = 0, 5. G_p init_conc = 0, 6. complex[G_dna:R_p] init_conc = 0}\n",
            "\n",
            "Reactions (5) = [\n",
            "0. G_dna --> G_dna+G_p\n",
            " Kf = k G_dna / ( 1 + (R_p/K)^2 )\n",
            "  k=4.0\n",
            "  K=5.0\n",
            "  n=2\n",
            "\n",
            "1. R_dna --> R_dna+R_rna\n",
            " Kf=k_forward * R_dna\n",
            "  k_forward=2.0\n",
            "\n",
            "2. R_rna --> R_rna+R_p\n",
            " Kf=k_forward * R_rna\n",
            "  k_forward=2.0\n",
            "\n",
            "3. G_dna --> G_dna+G_p\n",
            " Kf=k_forward * G_dna\n",
            "  k_forward=4.0\n",
            "\n",
            "4. 2R_p --> R_p\n",
            " Kf=k_forward * R_p^2\n",
            "  k_forward=1.0\n",
            "\n",
            "]\n"
          ],
          "name": "stdout"
        }
      ]
    },
    {
      "cell_type": "code",
      "metadata": {
        "id": "EMOEylpcdnPc",
        "colab": {
          "base_uri": "https://localhost:8080/",
          "height": 281
        },
        "outputId": "728c3cb7-5473-4f54-8ebe-f931775ae575"
      },
      "source": [
        "CRN.write_sbml_file(\"repression_hill20_10_15.xml\")\n",
        "try:\n",
        "    import bioscrape\n",
        "    import numpy as np\n",
        "    import pylab as plt\n",
        "    import pandas as pd\n",
        "    \n",
        "    #Initial conditions can be set with a dictionary:\n",
        "    x0 = {str(G_dna):10, str(R_dna):10}\n",
        "\n",
        "    timepoints = np.linspace(0, 5, 100)#Timepoints to simulate over\n",
        "    \n",
        "    #This function can also take a filename keyword to save the file at the same time\n",
        "    R = CRN.simulate_with_bioscrape_via_sbml(timepoints = timepoints, initial_condition_dict = x0)\n",
        "\n",
        "    #Check to ensure simulation worked\n",
        "    #Results are in a Pandas Dictionary and can be accessed via string-names of species\n",
        "    plt.plot(R['time'], R[str(G_dna)], label = str(G_dna))\n",
        "    plt.plot(R['time'], R[str(G_p)], label = str(G_p))\n",
        "    plt.plot(R['time'], R[str(R_dna)], label = str(R_dna))\n",
        "    plt.plot(R['time'], R[str(R_rna)], label = str(R_rna))\n",
        "    plt.plot(R['time'], R[str(R_p)], label = str(R_p))\n",
        "    plt.legend()\n",
        "    plt.title(\"Behavior with R_p repression of R_dna\")\n",
        "    #plt.yscale('log')\n",
        "except ModuleNotFoundError:\n",
        "    print(\"Plotting Modules not installed.\")"
      ],
      "execution_count": null,
      "outputs": [
        {
          "output_type": "display_data",
          "data": {
            "image/png": "[encoded data removed]",
            "text/plain": [
              "<Figure size 432x288 with 1 Axes>"
            ]
          },
          "metadata": {
            "tags": [],
            "needs_background": "light"
          }
        }
      ]
    },
    {
      "cell_type": "markdown",
      "metadata": {
        "id": "X0OOz811Y6Xh"
      },
      "source": [
        "## Advanced Exercise:\n",
        "### A. Convert the massaction activatable transcription factor model (given below) into a smaller model using Hill functions and/or general propensities. \n",
        "### B. What is the fewest number of species you can find that still matches the dynamics of the original CRN? \n",
        "### C. What constraints on initial conditions and rates are there?"
      ]
    },
    {
      "cell_type": "code",
      "metadata": {
        "id": "cNv3K4hqY7kL",
        "colab": {
          "base_uri": "https://localhost:8080/",
          "height": 201
        },
        "outputId": "30f90830-5337-44c3-b28c-00039adcf86d"
      },
      "source": [
        "#Create all the species in the model\n",
        "S_ext = Species(\"S\", attributes = [\"External\"], initial_concentration = 100)\n",
        "S = Species(\"S\")\n",
        "F0 = Species(\"F0\", initial_concentration = 10)\n",
        "F1 = Complex([F0, S, S])\n",
        "G0 = Species(\"X\", material_type = \"dna\", initial_concentration = 1)\n",
        "G1 = Complex([F1, G0])\n",
        "P = Species(\"Polymerase\", material_type = \"protein\", initial_concentration = 5)\n",
        "G_tx = Complex([G1, P])\n",
        "T = Species(\"X\", material_type = \"rna\")\n",
        "R = Species(\"Ribosome\", initial_concentration = 25)\n",
        "T_tl = Complex([T, R])\n",
        "X = Species(\"X\", material_type = \"protein\")\n",
        "\n",
        "#Rates\n",
        "ku = 10 #unbinding\n",
        "kb = 100 #binding\n",
        "ktx = 2.0 #transcription\n",
        "ktl = 3.0 #translation\n",
        "kdil = .1 #dilution\n",
        "\n",
        "#Create Reactions\n",
        "r1 = Reaction.from_massaction([S_ext], [S], k_forward = kb, k_reverse = ku)\n",
        "r2 = Reaction.from_massaction(2*[S]+[F0], [F1], k_forward = kb, k_reverse = ku)\n",
        "r3 = Reaction.from_massaction([F1, G0], [G1], k_forward = kb, k_reverse = ku)\n",
        "r4 = Reaction.from_massaction([G1, P], [G_tx], k_forward = kb, k_reverse = ku)\n",
        "r5 = Reaction.from_massaction([G_tx], [G1, P, T], k_forward = ktx)\n",
        "r6 = Reaction.from_massaction([T, R], [T_tl], k_forward = kb, k_reverse = ku)\n",
        "r7 = Reaction.from_massaction([T_tl], [T, R, X], k_forward = ktl)\n",
        "r8 = Reaction.from_massaction([S], [], k_forward = kdil)\n",
        "r9 = Reaction.from_massaction([T], [], k_forward = kdil)\n",
        "r10 = Reaction.from_massaction([X], [], k_forward = kdil)\n",
        "\n",
        "#Create CRN\n",
        "CRN = ChemicalReactionNetwork(species = [S_ext, S, F0, F1, G0, P, G_tx, T, R, T_tl, X], reactions = [r1, r2, r3, r4, r5, r6, r7, r8, r9, r10])\n",
        "\n",
        "timepoints = np.linspace(0, 50, 100)\n",
        "R = CRN.simulate_with_bioscrape_via_sbml(timepoints)\n",
        "\n",
        "#plot\n",
        "plt.figure(figsize = (12, 2.5))\n",
        "plt.subplot(141)\n",
        "plt.plot(timepoints, R[str(S_ext)], label = str(S_ext))\n",
        "plt.plot(timepoints, R[str(S)], label = str(S))\n",
        "plt.legend()\n",
        "\n",
        "plt.subplot(142)\n",
        "plt.plot(timepoints, R[str(F0)], label = \"F0\")\n",
        "plt.plot(timepoints, R[str(F1)], label = \"F1\")\n",
        "plt.legend()\n",
        "\n",
        "plt.subplot(143)\n",
        "plt.plot(timepoints, R[str(G0)], label = \"G0\")\n",
        "plt.plot(timepoints, R[str(G1)], label = \"G1\")\n",
        "plt.plot(timepoints, R[str(G_tx)], label = \"G1:P\")\n",
        "plt.legend()\n",
        "\n",
        "plt.subplot(144)\n",
        "plt.plot(timepoints, R[str(T)], label = \"T\")\n",
        "plt.plot(timepoints, R[str(T_tl)], label = \"T:R\")\n",
        "plt.plot(timepoints, R[str(X)], label = \"X\")\n",
        "plt.legend()"
      ],
      "execution_count": null,
      "outputs": [
        {
          "output_type": "execute_result",
          "data": {
            "text/plain": [
              "<matplotlib.legend.Legend at 0x7fd8d599d8d0>"
            ]
          },
          "metadata": {
            "tags": []
          },
          "execution_count": 18
        },
        {
          "output_type": "display_data",
          "data": {
            "image/png": "[encoded data removed]",
            "text/plain": [
              "<Figure size 864x180 with 4 Axes>"
            ]
          },
          "metadata": {
            "tags": [],
            "needs_background": "light"
          }
        }
      ]
    },
    {
      "cell_type": "code",
      "metadata": {
        "id": "3XC0qRN5Y9cz"
      },
      "source": [
        ""
      ],
      "execution_count": null,
      "outputs": []
    }
  ]
}