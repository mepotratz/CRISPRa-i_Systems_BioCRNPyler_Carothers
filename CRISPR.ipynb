{
  "nbformat": 4,
  "nbformat_minor": 0,
  "metadata": {
    "colab": {
      "name": "CRISPR.ipynb",
      "provenance": []
    },
    "kernelspec": {
      "name": "python3",
      "display_name": "Python 3"
    }
  },
  "cells": [
    {
      "cell_type": "code",
      "metadata": {
        "colab": {
          "base_uri": "https://localhost:8080/"
        },
        "id": "jodb9KUo-wOG",
        "outputId": "c93ab190-c0df-4de1-85cc-3c3ec7d49194"
      },
      "source": [
        "#Import everything from biocrnpyler\r\n",
        "!pip install biocrnpyler[all]\r\n",
        "!pip install pandas\r\n",
        "from biocrnpyler import *\r\n",
        "\r\n",
        "#Used for simulations via Bioscrape\r\n",
        "# Install emcee\r\n",
        "!pip install emcee\r\n",
        " \r\n",
        "# Install bioscrape\r\n",
        "!git clone https://github.com/biocircuits/bioscrape.git\r\n",
        "!(cd bioscrape; python setup.py install)\r\n",
        " \r\n",
        "# Make sure it worked\r\n",
        "import bioscrape\r\n"
      ],
      "execution_count": null,
      "outputs": [
        {
          "output_type": "stream",
          "text": [
            "Collecting biocrnpyler[all]\n",
            "\u001b[?25l  Downloading https://files.pythonhosted.org/packages/29/f8/7a815213ae88b472146118e3072626ae43addecfa4381ab421e4cf9a6113/biocrnpyler-1.0.2-py3-none-any.whl (107kB)\n",
            "\u001b[K     |████████████████████████████████| 112kB 6.2MB/s \n",
            "\u001b[?25hCollecting python-libsbml\n",
            "\u001b[?25l  Downloading https://files.pythonhosted.org/packages/52/22/d53e0178cdf061544f39fbf07b5887e7a58e564a1fb9b2db09d11205b213/python_libsbml-5.19.0-cp36-cp36m-manylinux1_x86_64.whl (6.2MB)\n",
            "\u001b[K     |████████████████████████████████| 6.2MB 6.9MB/s \n",
            "\u001b[?25hRequirement already satisfied: networkx; extra == \"all\" in /usr/local/lib/python3.6/dist-packages (from biocrnpyler[all]) (2.5)\n",
            "Requirement already satisfied: fa2; extra == \"all\" in /usr/local/lib/python3.6/dist-packages (from biocrnpyler[all]) (0.3.5)\n",
            "Requirement already satisfied: bokeh>=1.4.0; extra == \"all\" in /usr/local/lib/python3.6/dist-packages (from biocrnpyler[all]) (2.1.1)\n",
            "Requirement already satisfied: numpy; extra == \"all\" in /usr/local/lib/python3.6/dist-packages (from biocrnpyler[all]) (1.19.5)\n",
            "Requirement already satisfied: matplotlib; extra == \"all\" in /usr/local/lib/python3.6/dist-packages (from biocrnpyler[all]) (3.2.2)\n",
            "Requirement already satisfied: decorator>=4.3.0 in /usr/local/lib/python3.6/dist-packages (from networkx; extra == \"all\"->biocrnpyler[all]) (4.4.2)\n",
            "Requirement already satisfied: tqdm in /usr/local/lib/python3.6/dist-packages (from fa2; extra == \"all\"->biocrnpyler[all]) (4.41.1)\n",
            "Requirement already satisfied: scipy in /usr/local/lib/python3.6/dist-packages (from fa2; extra == \"all\"->biocrnpyler[all]) (1.4.1)\n",
            "Requirement already satisfied: Jinja2>=2.7 in /usr/local/lib/python3.6/dist-packages (from bokeh>=1.4.0; extra == \"all\"->biocrnpyler[all]) (2.11.3)\n",
            "Requirement already satisfied: pillow>=4.0 in /usr/local/lib/python3.6/dist-packages (from bokeh>=1.4.0; extra == \"all\"->biocrnpyler[all]) (7.0.0)\n",
            "Requirement already satisfied: python-dateutil>=2.1 in /usr/local/lib/python3.6/dist-packages (from bokeh>=1.4.0; extra == \"all\"->biocrnpyler[all]) (2.8.1)\n",
            "Requirement already satisfied: packaging>=16.8 in /usr/local/lib/python3.6/dist-packages (from bokeh>=1.4.0; extra == \"all\"->biocrnpyler[all]) (20.9)\n",
            "Requirement already satisfied: PyYAML>=3.10 in /usr/local/lib/python3.6/dist-packages (from bokeh>=1.4.0; extra == \"all\"->biocrnpyler[all]) (3.13)\n",
            "Requirement already satisfied: tornado>=5.1 in /usr/local/lib/python3.6/dist-packages (from bokeh>=1.4.0; extra == \"all\"->biocrnpyler[all]) (5.1.1)\n",
            "Requirement already satisfied: typing-extensions>=3.7.4 in /usr/local/lib/python3.6/dist-packages (from bokeh>=1.4.0; extra == \"all\"->biocrnpyler[all]) (3.7.4.3)\n",
            "Requirement already satisfied: kiwisolver>=1.0.1 in /usr/local/lib/python3.6/dist-packages (from matplotlib; extra == \"all\"->biocrnpyler[all]) (1.3.1)\n",
            "Requirement already satisfied: pyparsing!=2.0.4,!=2.1.2,!=2.1.6,>=2.0.1 in /usr/local/lib/python3.6/dist-packages (from matplotlib; extra == \"all\"->biocrnpyler[all]) (2.4.7)\n",
            "Requirement already satisfied: cycler>=0.10 in /usr/local/lib/python3.6/dist-packages (from matplotlib; extra == \"all\"->biocrnpyler[all]) (0.10.0)\n",
            "Requirement already satisfied: MarkupSafe>=0.23 in /usr/local/lib/python3.6/dist-packages (from Jinja2>=2.7->bokeh>=1.4.0; extra == \"all\"->biocrnpyler[all]) (1.1.1)\n",
            "Requirement already satisfied: six>=1.5 in /usr/local/lib/python3.6/dist-packages (from python-dateutil>=2.1->bokeh>=1.4.0; extra == \"all\"->biocrnpyler[all]) (1.15.0)\n",
            "Installing collected packages: python-libsbml, biocrnpyler\n",
            "Successfully installed biocrnpyler-1.0.2 python-libsbml-5.19.0\n",
            "Requirement already satisfied: pandas in /usr/local/lib/python3.6/dist-packages (1.1.5)\n",
            "Requirement already satisfied: python-dateutil>=2.7.3 in /usr/local/lib/python3.6/dist-packages (from pandas) (2.8.1)\n",
            "Requirement already satisfied: pytz>=2017.2 in /usr/local/lib/python3.6/dist-packages (from pandas) (2018.9)\n",
            "Requirement already satisfied: numpy>=1.15.4 in /usr/local/lib/python3.6/dist-packages (from pandas) (1.19.5)\n",
            "Requirement already satisfied: six>=1.5 in /usr/local/lib/python3.6/dist-packages (from python-dateutil>=2.7.3->pandas) (1.15.0)\n",
            "Collecting emcee\n",
            "\u001b[?25l  Downloading https://files.pythonhosted.org/packages/97/f4/00151f5f843088337c6a53edd6cbb2df340f1044d23080c662f95219cc3f/emcee-3.0.2-py2.py3-none-any.whl (41kB)\n",
            "\u001b[K     |████████████████████████████████| 51kB 3.1MB/s \n",
            "\u001b[?25hRequirement already satisfied: numpy in /usr/local/lib/python3.6/dist-packages (from emcee) (1.19.5)\n",
            "Installing collected packages: emcee\n",
            "Successfully installed emcee-3.0.2\n",
            "Cloning into 'bioscrape'...\n",
            "remote: Enumerating objects: 9, done.\u001b[K\n",
            "remote: Counting objects: 100% (9/9), done.\u001b[K\n",
            "remote: Compressing objects: 100% (9/9), done.\u001b[K\n",
            "remote: Total 1724 (delta 3), reused 1 (delta 0), pack-reused 1715\u001b[K\n",
            "Receiving objects: 100% (1724/1724), 134.71 MiB | 22.52 MiB/s, done.\n",
            "Resolving deltas: 100% (1090/1090), done.\n",
            "Installing Bioscrape...\n",
            "Compiling bioscrape/random.pyx because it changed.\n",
            "Compiling bioscrape/types.pyx because it changed.\n",
            "Compiling bioscrape/simulator.pyx because it changed.\n",
            "Compiling bioscrape/inference.pyx because it changed.\n",
            "[1/4] Cythonizing bioscrape/inference.pyx\n",
            "[2/4] Cythonizing bioscrape/random.pyx\n",
            "[3/4] Cythonizing bioscrape/simulator.pyx\n",
            "[4/4] Cythonizing bioscrape/types.pyx\n",
            "warning: bioscrape/types.pyx:1781:32: the result of using negative indices inside of code sections marked as 'wraparound=False' is undefined\n",
            "warning: bioscrape/types.pyx:1787:32: the result of using negative indices inside of code sections marked as 'wraparound=False' is undefined\n",
            "warning: bioscrape/types.pyx:1796:40: the result of using negative indices inside of code sections marked as 'wraparound=False' is undefined\n",
            "warning: bioscrape/types.pyx:1803:40: the result of using negative indices inside of code sections marked as 'wraparound=False' is undefined\n",
            "warning: bioscrape/types.pyx:1912:44: the result of using negative indices inside of code sections marked as 'wraparound=False' is undefined\n",
            "Bioscrape Cythonized.\n",
            "Installing Lineage...\n",
            "Compiling lineage/lineage.pyx because it changed.\n",
            "[1/1] Cythonizing lineage/lineage.pyx\n",
            "warning: lineage/lineage.pyx:729:32: Unreachable code\n",
            "warning: lineage/lineage.pyx:3027:39: the result of using negative indices inside of code sections marked as 'wraparound=False' is undefined\n",
            "Lineage Cythonized.\n",
            "/usr/lib/python3.6/distutils/dist.py:261: UserWarning: Unknown distribution option: 'zip_safe'\n",
            "  warnings.warn(msg)\n",
            "/usr/lib/python3.6/distutils/dist.py:261: UserWarning: Unknown distribution option: 'setup_requires'\n",
            "  warnings.warn(msg)\n",
            "/usr/lib/python3.6/distutils/dist.py:261: UserWarning: Unknown distribution option: 'install_requires'\n",
            "  warnings.warn(msg)\n",
            "/usr/lib/python3.6/distutils/dist.py:261: UserWarning: Unknown distribution option: 'python_requires'\n",
            "  warnings.warn(msg)\n",
            "/usr/lib/python3.6/distutils/dist.py:261: UserWarning: Unknown distribution option: 'tests_require'\n",
            "  warnings.warn(msg)\n",
            "/usr/lib/python3.6/distutils/dist.py:261: UserWarning: Unknown distribution option: 'project_urls'\n",
            "  warnings.warn(msg)\n",
            "running install\n",
            "running build\n",
            "running build_py\n",
            "creating build\n",
            "creating build/lib.linux-x86_64-3.6\n",
            "creating build/lib.linux-x86_64-3.6/bioscrape\n",
            "copying bioscrape/sbmlutil.py -> build/lib.linux-x86_64-3.6/bioscrape\n",
            "copying bioscrape/pid_interfaces.py -> build/lib.linux-x86_64-3.6/bioscrape\n",
            "copying bioscrape/emcee_interface.py -> build/lib.linux-x86_64-3.6/bioscrape\n",
            "copying bioscrape/__init__.py -> build/lib.linux-x86_64-3.6/bioscrape\n",
            "copying bioscrape/inference.pxd -> build/lib.linux-x86_64-3.6/bioscrape\n",
            "copying bioscrape/random.pxd -> build/lib.linux-x86_64-3.6/bioscrape\n",
            "copying bioscrape/types.pxd -> build/lib.linux-x86_64-3.6/bioscrape\n",
            "copying bioscrape/vector.pxd -> build/lib.linux-x86_64-3.6/bioscrape\n",
            "copying bioscrape/simulator.pxd -> build/lib.linux-x86_64-3.6/bioscrape\n",
            "running build_ext\n",
            "building 'bioscrape.random' extension\n",
            "creating build/temp.linux-x86_64-3.6\n",
            "creating build/temp.linux-x86_64-3.6/bioscrape\n",
            "x86_64-linux-gnu-gcc -pthread -DNDEBUG -g -fwrapv -O2 -Wall -g -fstack-protector-strong -Wformat -Werror=format-security -Wdate-time -D_FORTIFY_SOURCE=2 -fPIC -I/usr/local/lib/python3.6/dist-packages/numpy/core/include -I. -I/usr/include/python3.6m -c bioscrape/random.cpp -o build/temp.linux-x86_64-3.6/bioscrape/random.o\n",
            "In file included from \u001b[01m\u001b[K/usr/local/lib/python3.6/dist-packages/numpy/core/include/numpy/ndarraytypes.h:1822:0\u001b[m\u001b[K,\n",
            "                 from \u001b[01m\u001b[K/usr/local/lib/python3.6/dist-packages/numpy/core/include/numpy/ndarrayobject.h:12\u001b[m\u001b[K,\n",
            "                 from \u001b[01m\u001b[K/usr/local/lib/python3.6/dist-packages/numpy/core/include/numpy/arrayobject.h:4\u001b[m\u001b[K,\n",
            "                 from \u001b[01m\u001b[Kbioscrape/random.cpp:647\u001b[m\u001b[K:\n",
            "\u001b[01m\u001b[K/usr/local/lib/python3.6/dist-packages/numpy/core/include/numpy/npy_1_7_deprecated_api.h:17:2:\u001b[m\u001b[K \u001b[01;35m\u001b[Kwarning: \u001b[m\u001b[K#warning \"Using deprecated NumPy API, disable it with \" \"#define NPY_NO_DEPRECATED_API NPY_1_7_API_VERSION\" [\u001b[01;35m\u001b[K-Wcpp\u001b[m\u001b[K]\n",
            " #\u001b[01;35m\u001b[Kwarning\u001b[m\u001b[K \"Using deprecated NumPy API, disable it with \" \\\n",
            "  \u001b[01;35m\u001b[K^~~~~~~\u001b[m\u001b[K\n",
            "\u001b[01m\u001b[Kbioscrape/random.cpp:\u001b[m\u001b[K In function ‘\u001b[01m\u001b[Klong long unsigned int __pyx_f_9bioscrape_6random_genrand64()\u001b[m\u001b[K’:\n",
            "\u001b[01m\u001b[Kbioscrape/random.cpp:1974:35:\u001b[m\u001b[K \u001b[01;35m\u001b[Kwarning: \u001b[m\u001b[Kcomparison between signed and unsigned integer expressions [\u001b[01;35m\u001b[K-Wsign-compare\u001b[m\u001b[K]\n",
            "     for (__pyx_t_4 = 0; \u001b[01;35m\u001b[K__pyx_t_4 < __pyx_t_3\u001b[m\u001b[K; __pyx_t_4+=1) {\n",
            "                         \u001b[01;35m\u001b[K~~~~~~~~~~^~~~~~~~~~~\u001b[m\u001b[K\n",
            "x86_64-linux-gnu-g++ -pthread -shared -Wl,-O1 -Wl,-Bsymbolic-functions -Wl,-Bsymbolic-functions -Wl,-z,relro -Wl,-Bsymbolic-functions -Wl,-z,relro -g -fstack-protector-strong -Wformat -Werror=format-security -Wdate-time -D_FORTIFY_SOURCE=2 build/temp.linux-x86_64-3.6/bioscrape/random.o -o build/lib.linux-x86_64-3.6/bioscrape/random.cpython-36m-x86_64-linux-gnu.so\n",
            "building 'bioscrape.types' extension\n",
            "x86_64-linux-gnu-gcc -pthread -DNDEBUG -g -fwrapv -O2 -Wall -g -fstack-protector-strong -Wformat -Werror=format-security -Wdate-time -D_FORTIFY_SOURCE=2 -fPIC -I/usr/local/lib/python3.6/dist-packages/numpy/core/include -I. -I/usr/include/python3.6m -c bioscrape/types.cpp -o build/temp.linux-x86_64-3.6/bioscrape/types.o\n",
            "In file included from \u001b[01m\u001b[K/usr/local/lib/python3.6/dist-packages/numpy/core/include/numpy/ndarraytypes.h:1822:0\u001b[m\u001b[K,\n",
            "                 from \u001b[01m\u001b[K/usr/local/lib/python3.6/dist-packages/numpy/core/include/numpy/ndarrayobject.h:12\u001b[m\u001b[K,\n",
            "                 from \u001b[01m\u001b[K/usr/local/lib/python3.6/dist-packages/numpy/core/include/numpy/arrayobject.h:4\u001b[m\u001b[K,\n",
            "                 from \u001b[01m\u001b[Kbioscrape/types.cpp:645\u001b[m\u001b[K:\n",
            "\u001b[01m\u001b[K/usr/local/lib/python3.6/dist-packages/numpy/core/include/numpy/npy_1_7_deprecated_api.h:17:2:\u001b[m\u001b[K \u001b[01;35m\u001b[Kwarning: \u001b[m\u001b[K#warning \"Using deprecated NumPy API, disable it with \" \"#define NPY_NO_DEPRECATED_API NPY_1_7_API_VERSION\" [\u001b[01;35m\u001b[K-Wcpp\u001b[m\u001b[K]\n",
            " #\u001b[01;35m\u001b[Kwarning\u001b[m\u001b[K \"Using deprecated NumPy API, disable it with \" \\\n",
            "  \u001b[01;35m\u001b[K^~~~~~~\u001b[m\u001b[K\n",
            "x86_64-linux-gnu-g++ -pthread -shared -Wl,-O1 -Wl,-Bsymbolic-functions -Wl,-Bsymbolic-functions -Wl,-z,relro -Wl,-Bsymbolic-functions -Wl,-z,relro -g -fstack-protector-strong -Wformat -Werror=format-security -Wdate-time -D_FORTIFY_SOURCE=2 build/temp.linux-x86_64-3.6/bioscrape/types.o -o build/lib.linux-x86_64-3.6/bioscrape/types.cpython-36m-x86_64-linux-gnu.so\n",
            "building 'bioscrape.simulator' extension\n",
            "x86_64-linux-gnu-gcc -pthread -DNDEBUG -g -fwrapv -O2 -Wall -g -fstack-protector-strong -Wformat -Werror=format-security -Wdate-time -D_FORTIFY_SOURCE=2 -fPIC -I/usr/local/lib/python3.6/dist-packages/numpy/core/include -I. -I/usr/include/python3.6m -c bioscrape/simulator.cpp -o build/temp.linux-x86_64-3.6/bioscrape/simulator.o\n",
            "In file included from \u001b[01m\u001b[K/usr/local/lib/python3.6/dist-packages/numpy/core/include/numpy/ndarraytypes.h:1822:0\u001b[m\u001b[K,\n",
            "                 from \u001b[01m\u001b[K/usr/local/lib/python3.6/dist-packages/numpy/core/include/numpy/ndarrayobject.h:12\u001b[m\u001b[K,\n",
            "                 from \u001b[01m\u001b[K/usr/local/lib/python3.6/dist-packages/numpy/core/include/numpy/arrayobject.h:4\u001b[m\u001b[K,\n",
            "                 from \u001b[01m\u001b[Kbioscrape/simulator.cpp:645\u001b[m\u001b[K:\n",
            "\u001b[01m\u001b[K/usr/local/lib/python3.6/dist-packages/numpy/core/include/numpy/npy_1_7_deprecated_api.h:17:2:\u001b[m\u001b[K \u001b[01;35m\u001b[Kwarning: \u001b[m\u001b[K#warning \"Using deprecated NumPy API, disable it with \" \"#define NPY_NO_DEPRECATED_API NPY_1_7_API_VERSION\" [\u001b[01;35m\u001b[K-Wcpp\u001b[m\u001b[K]\n",
            " #\u001b[01;35m\u001b[Kwarning\u001b[m\u001b[K \"Using deprecated NumPy API, disable it with \" \\\n",
            "  \u001b[01;35m\u001b[K^~~~~~~\u001b[m\u001b[K\n",
            "x86_64-linux-gnu-g++ -pthread -shared -Wl,-O1 -Wl,-Bsymbolic-functions -Wl,-Bsymbolic-functions -Wl,-z,relro -Wl,-Bsymbolic-functions -Wl,-z,relro -g -fstack-protector-strong -Wformat -Werror=format-security -Wdate-time -D_FORTIFY_SOURCE=2 build/temp.linux-x86_64-3.6/bioscrape/simulator.o -o build/lib.linux-x86_64-3.6/bioscrape/simulator.cpython-36m-x86_64-linux-gnu.so\n",
            "building 'bioscrape.inference' extension\n",
            "x86_64-linux-gnu-gcc -pthread -DNDEBUG -g -fwrapv -O2 -Wall -g -fstack-protector-strong -Wformat -Werror=format-security -Wdate-time -D_FORTIFY_SOURCE=2 -fPIC -I/usr/local/lib/python3.6/dist-packages/numpy/core/include -I. -I/usr/include/python3.6m -c bioscrape/inference.cpp -o build/temp.linux-x86_64-3.6/bioscrape/inference.o\n",
            "In file included from \u001b[01m\u001b[K/usr/local/lib/python3.6/dist-packages/numpy/core/include/numpy/ndarraytypes.h:1822:0\u001b[m\u001b[K,\n",
            "                 from \u001b[01m\u001b[K/usr/local/lib/python3.6/dist-packages/numpy/core/include/numpy/ndarrayobject.h:12\u001b[m\u001b[K,\n",
            "                 from \u001b[01m\u001b[K/usr/local/lib/python3.6/dist-packages/numpy/core/include/numpy/arrayobject.h:4\u001b[m\u001b[K,\n",
            "                 from \u001b[01m\u001b[Kbioscrape/inference.cpp:645\u001b[m\u001b[K:\n",
            "\u001b[01m\u001b[K/usr/local/lib/python3.6/dist-packages/numpy/core/include/numpy/npy_1_7_deprecated_api.h:17:2:\u001b[m\u001b[K \u001b[01;35m\u001b[Kwarning: \u001b[m\u001b[K#warning \"Using deprecated NumPy API, disable it with \" \"#define NPY_NO_DEPRECATED_API NPY_1_7_API_VERSION\" [\u001b[01;35m\u001b[K-Wcpp\u001b[m\u001b[K]\n",
            " #\u001b[01;35m\u001b[Kwarning\u001b[m\u001b[K \"Using deprecated NumPy API, disable it with \" \\\n",
            "  \u001b[01;35m\u001b[K^~~~~~~\u001b[m\u001b[K\n",
            "x86_64-linux-gnu-g++ -pthread -shared -Wl,-O1 -Wl,-Bsymbolic-functions -Wl,-Bsymbolic-functions -Wl,-z,relro -Wl,-Bsymbolic-functions -Wl,-z,relro -g -fstack-protector-strong -Wformat -Werror=format-security -Wdate-time -D_FORTIFY_SOURCE=2 build/temp.linux-x86_64-3.6/bioscrape/inference.o -o build/lib.linux-x86_64-3.6/bioscrape/inference.cpython-36m-x86_64-linux-gnu.so\n",
            "building 'bioscrape.lineage' extension\n",
            "creating build/temp.linux-x86_64-3.6/lineage\n",
            "x86_64-linux-gnu-gcc -pthread -DNDEBUG -g -fwrapv -O2 -Wall -g -fstack-protector-strong -Wformat -Werror=format-security -Wdate-time -D_FORTIFY_SOURCE=2 -fPIC -I/usr/local/lib/python3.6/dist-packages/numpy/core/include -I. -I/usr/include/python3.6m -c lineage/lineage.cpp -o build/temp.linux-x86_64-3.6/lineage/lineage.o\n",
            "In file included from \u001b[01m\u001b[K/usr/local/lib/python3.6/dist-packages/numpy/core/include/numpy/ndarraytypes.h:1822:0\u001b[m\u001b[K,\n",
            "                 from \u001b[01m\u001b[K/usr/local/lib/python3.6/dist-packages/numpy/core/include/numpy/ndarrayobject.h:12\u001b[m\u001b[K,\n",
            "                 from \u001b[01m\u001b[K/usr/local/lib/python3.6/dist-packages/numpy/core/include/numpy/arrayobject.h:4\u001b[m\u001b[K,\n",
            "                 from \u001b[01m\u001b[Klineage/lineage.cpp:646\u001b[m\u001b[K:\n",
            "\u001b[01m\u001b[K/usr/local/lib/python3.6/dist-packages/numpy/core/include/numpy/npy_1_7_deprecated_api.h:17:2:\u001b[m\u001b[K \u001b[01;35m\u001b[Kwarning: \u001b[m\u001b[K#warning \"Using deprecated NumPy API, disable it with \" \"#define NPY_NO_DEPRECATED_API NPY_1_7_API_VERSION\" [\u001b[01;35m\u001b[K-Wcpp\u001b[m\u001b[K]\n",
            " #\u001b[01;35m\u001b[Kwarning\u001b[m\u001b[K \"Using deprecated NumPy API, disable it with \" \\\n",
            "  \u001b[01;35m\u001b[K^~~~~~~\u001b[m\u001b[K\n",
            "\u001b[01m\u001b[Klineage/lineage.cpp:\u001b[m\u001b[K In function ‘\u001b[01m\u001b[Kdouble __pyx_f_9bioscrape_7lineage_20LineageCSimInterface_apply_volume_rules(__pyx_obj_9bioscrape_7lineage_LineageCSimInterface*, double*, double, double, double)\u001b[m\u001b[K’:\n",
            "\u001b[01m\u001b[Klineage/lineage.cpp:34461:33:\u001b[m\u001b[K \u001b[01;35m\u001b[Kwarning: \u001b[m\u001b[Kcomparison between signed and unsigned integer expressions [\u001b[01;35m\u001b[K-Wsign-compare\u001b[m\u001b[K]\n",
            "   for (__pyx_t_3 = 0; \u001b[01;35m\u001b[K__pyx_t_3 < __pyx_t_2\u001b[m\u001b[K; __pyx_t_3+=1) {\n",
            "                       \u001b[01;35m\u001b[K~~~~~~~~~~^~~~~~~~~~~\u001b[m\u001b[K\n",
            "\u001b[01m\u001b[Klineage/lineage.cpp:\u001b[m\u001b[K In function ‘\u001b[01m\u001b[Kint __pyx_f_9bioscrape_7lineage_20LineageCSimInterface_apply_death_rules(__pyx_obj_9bioscrape_7lineage_LineageCSimInterface*, double*, double, double, double, double)\u001b[m\u001b[K’:\n",
            "\u001b[01m\u001b[Klineage/lineage.cpp:34537:33:\u001b[m\u001b[K \u001b[01;35m\u001b[Kwarning: \u001b[m\u001b[Kcomparison between signed and unsigned integer expressions [\u001b[01;35m\u001b[K-Wsign-compare\u001b[m\u001b[K]\n",
            "   for (__pyx_t_3 = 0; \u001b[01;35m\u001b[K__pyx_t_3 < __pyx_t_2\u001b[m\u001b[K; __pyx_t_3+=1) {\n",
            "                       \u001b[01;35m\u001b[K~~~~~~~~~~^~~~~~~~~~~\u001b[m\u001b[K\n",
            "\u001b[01m\u001b[Klineage/lineage.cpp:\u001b[m\u001b[K In function ‘\u001b[01m\u001b[Kint __pyx_f_9bioscrape_7lineage_20LineageCSimInterface_apply_division_rules(__pyx_obj_9bioscrape_7lineage_LineageCSimInterface*, double*, double, double, double, double)\u001b[m\u001b[K’:\n",
            "\u001b[01m\u001b[Klineage/lineage.cpp:34642:33:\u001b[m\u001b[K \u001b[01;35m\u001b[Kwarning: \u001b[m\u001b[Kcomparison between signed and unsigned integer expressions [\u001b[01;35m\u001b[K-Wsign-compare\u001b[m\u001b[K]\n",
            "   for (__pyx_t_3 = 0; \u001b[01;35m\u001b[K__pyx_t_3 < __pyx_t_2\u001b[m\u001b[K; __pyx_t_3+=1) {\n",
            "                       \u001b[01;35m\u001b[K~~~~~~~~~~^~~~~~~~~~~\u001b[m\u001b[K\n",
            "\u001b[01m\u001b[Klineage/lineage.cpp:\u001b[m\u001b[K In function ‘\u001b[01m\u001b[KPyArrayObject* __pyx_f_9bioscrape_7lineage_20LineageCSimInterface_partition(__pyx_obj_9bioscrape_7lineage_LineageCSimInterface*, int, __pyx_obj_9bioscrape_7lineage_LineageVolumeCellState*)\u001b[m\u001b[K’:\n",
            "\u001b[01m\u001b[Klineage/lineage.cpp:34785:36:\u001b[m\u001b[K \u001b[01;35m\u001b[Kwarning: \u001b[m\u001b[Kcomparison between signed and unsigned integer expressions [\u001b[01;35m\u001b[K-Wsign-compare\u001b[m\u001b[K]\n",
            "   __pyx_t_2 = ((\u001b[01;35m\u001b[K__pyx_v_vsplit_ind >= __pyx_v_self->num_division_rules\u001b[m\u001b[K) != 0);\n",
            "                 \u001b[01;35m\u001b[K~~~~~~~~~~~~~~~~~~~^~~~~~~~~~~~~~~~~~~~~~~~~~~~~~~~~~~\u001b[m\u001b[K\n",
            "\u001b[01m\u001b[Klineage/lineage.cpp:34791:36:\u001b[m\u001b[K \u001b[01;35m\u001b[Kwarning: \u001b[m\u001b[Kcomparison between signed and unsigned integer expressions [\u001b[01;35m\u001b[K-Wsign-compare\u001b[m\u001b[K]\n",
            "   __pyx_t_2 = ((\u001b[01;35m\u001b[K__pyx_v_vsplit_ind < (__pyx_v_self->num_division_rules + __pyx_v_self->num_division_events)\u001b[m\u001b[K) != 0);\n",
            "                 \u001b[01;35m\u001b[K~~~~~~~~~~~~~~~~~~~^~~~~~~~~~~~~~~~~~~~~~~~~~~~~~~~~~~~~~~~~~~~~~~~~~~~~~~~~~~~~~~~~~~~~~~~\u001b[m\u001b[K\n",
            "\u001b[01m\u001b[Klineage/lineage.cpp:34839:36:\u001b[m\u001b[K \u001b[01;35m\u001b[Kwarning: \u001b[m\u001b[Kcomparison between signed and unsigned integer expressions [\u001b[01;35m\u001b[K-Wsign-compare\u001b[m\u001b[K]\n",
            "   __pyx_t_2 = ((\u001b[01;35m\u001b[K__pyx_v_vsplit_ind < __pyx_v_self->num_division_rules\u001b[m\u001b[K) != 0);\n",
            "                 \u001b[01;35m\u001b[K~~~~~~~~~~~~~~~~~~~^~~~~~~~~~~~~~~~~~~~~~~~~~~~~~~~~~\u001b[m\u001b[K\n",
            "\u001b[01m\u001b[Klineage/lineage.cpp:\u001b[m\u001b[K In function ‘\u001b[01m\u001b[KPyObject* __pyx_f_9bioscrape_7lineage_19LineageSSASimulator_PropagateCells(__pyx_obj_9bioscrape_7lineage_LineageSSASimulator*, PyObject*, __Pyx_memviewslice, __Pyx_memviewslice, unsigned int)\u001b[m\u001b[K’:\n",
            "\u001b[01m\u001b[Klineage/lineage.cpp:46269:27:\u001b[m\u001b[K \u001b[01;35m\u001b[Kwarning: \u001b[m\u001b[Kcomparison between signed and unsigned integer expressions [\u001b[01;35m\u001b[K-Wsign-compare\u001b[m\u001b[K]\n",
            "   __pyx_t_5 = ((\u001b[01;35m\u001b[K__pyx_t_6 < (__pyx_v_sample_times.shape[0])\u001b[m\u001b[K) != 0);\n",
            "                 \u001b[01;35m\u001b[K~~~~~~~~~~^~~~~~~~~~~~~~~~~~~~~~~~~~~~~~~~~\u001b[m\u001b[K\n",
            "\u001b[01m\u001b[Klineage/lineage.cpp:\u001b[m\u001b[K In function ‘\u001b[01m\u001b[K__pyx_obj_9bioscrape_7lineage_SingleCellSSAResult* __pyx_f_9bioscrape_7lineage_19LineageSSASimulator_SimulateSingleCell(__pyx_obj_9bioscrape_7lineage_LineageSSASimulator*, __pyx_obj_9bioscrape_7lineage_LineageVolumeCellState*, __Pyx_memviewslice, unsigned int)\u001b[m\u001b[K’:\n",
            "\u001b[01m\u001b[Klineage/lineage.cpp:41547:21:\u001b[m\u001b[K \u001b[01;35m\u001b[Kwarning: \u001b[m\u001b[K‘\u001b[01m\u001b[K__pyx_pybuffernd_dummy_r.__Pyx_LocalBuf_ND::diminfo[1].__Pyx_Buf_DimInfo::strides\u001b[m\u001b[K’ may be used uninitialized in this function [\u001b[01;35m\u001b[K-Wmaybe-uninitialized\u001b[m\u001b[K]\n",
            "   __Pyx_LocalBuf_ND \u001b[01;35m\u001b[K__pyx_pybuffernd_dummy_r\u001b[m\u001b[K;\n",
            "                     \u001b[01;35m\u001b[K^~~~~~~~~~~~~~~~~~~~~~~~\u001b[m\u001b[K\n",
            "x86_64-linux-gnu-g++ -pthread -shared -Wl,-O1 -Wl,-Bsymbolic-functions -Wl,-Bsymbolic-functions -Wl,-z,relro -Wl,-Bsymbolic-functions -Wl,-z,relro -g -fstack-protector-strong -Wformat -Werror=format-security -Wdate-time -D_FORTIFY_SOURCE=2 build/temp.linux-x86_64-3.6/lineage/lineage.o -o build/lib.linux-x86_64-3.6/bioscrape/lineage.cpython-36m-x86_64-linux-gnu.so\n",
            "running install_lib\n",
            "creating /usr/local/lib/python3.6/dist-packages/bioscrape\n",
            "copying build/lib.linux-x86_64-3.6/bioscrape/sbmlutil.py -> /usr/local/lib/python3.6/dist-packages/bioscrape\n",
            "copying build/lib.linux-x86_64-3.6/bioscrape/pid_interfaces.py -> /usr/local/lib/python3.6/dist-packages/bioscrape\n",
            "copying build/lib.linux-x86_64-3.6/bioscrape/inference.pxd -> /usr/local/lib/python3.6/dist-packages/bioscrape\n",
            "copying build/lib.linux-x86_64-3.6/bioscrape/random.pxd -> /usr/local/lib/python3.6/dist-packages/bioscrape\n",
            "copying build/lib.linux-x86_64-3.6/bioscrape/lineage.cpython-36m-x86_64-linux-gnu.so -> /usr/local/lib/python3.6/dist-packages/bioscrape\n",
            "copying build/lib.linux-x86_64-3.6/bioscrape/types.pxd -> /usr/local/lib/python3.6/dist-packages/bioscrape\n",
            "copying build/lib.linux-x86_64-3.6/bioscrape/types.cpython-36m-x86_64-linux-gnu.so -> /usr/local/lib/python3.6/dist-packages/bioscrape\n",
            "copying build/lib.linux-x86_64-3.6/bioscrape/inference.cpython-36m-x86_64-linux-gnu.so -> /usr/local/lib/python3.6/dist-packages/bioscrape\n",
            "copying build/lib.linux-x86_64-3.6/bioscrape/vector.pxd -> /usr/local/lib/python3.6/dist-packages/bioscrape\n",
            "copying build/lib.linux-x86_64-3.6/bioscrape/simulator.cpython-36m-x86_64-linux-gnu.so -> /usr/local/lib/python3.6/dist-packages/bioscrape\n",
            "copying build/lib.linux-x86_64-3.6/bioscrape/random.cpython-36m-x86_64-linux-gnu.so -> /usr/local/lib/python3.6/dist-packages/bioscrape\n",
            "copying build/lib.linux-x86_64-3.6/bioscrape/emcee_interface.py -> /usr/local/lib/python3.6/dist-packages/bioscrape\n",
            "copying build/lib.linux-x86_64-3.6/bioscrape/simulator.pxd -> /usr/local/lib/python3.6/dist-packages/bioscrape\n",
            "copying build/lib.linux-x86_64-3.6/bioscrape/__init__.py -> /usr/local/lib/python3.6/dist-packages/bioscrape\n",
            "byte-compiling /usr/local/lib/python3.6/dist-packages/bioscrape/sbmlutil.py to sbmlutil.cpython-36.pyc\n",
            "byte-compiling /usr/local/lib/python3.6/dist-packages/bioscrape/pid_interfaces.py to pid_interfaces.cpython-36.pyc\n",
            "byte-compiling /usr/local/lib/python3.6/dist-packages/bioscrape/emcee_interface.py to emcee_interface.cpython-36.pyc\n",
            "byte-compiling /usr/local/lib/python3.6/dist-packages/bioscrape/__init__.py to __init__.cpython-36.pyc\n",
            "running install_egg_info\n",
            "Writing /usr/local/lib/python3.6/dist-packages/bioscrape-1.0.2.2.egg-info\n"
          ],
          "name": "stdout"
        }
      ]
    },
    {
      "cell_type": "code",
      "metadata": {
        "id": "ngeDktRjey8h"
      },
      "source": [
        "\r\n",
        "f = open(\"default_parameters.txt\", 'w')\r\n",
        "f.write(\"\"\"mechanism_id\tpart_id\tparam_name\tparam_val\tcomments\r\n",
        "\te coli\tprotein_Ribo_machinery\t150\tuM assuming ~100000 Ribosomes / e. coli with a volume 1 um^3\r\n",
        "\te coli\tprotein_RNAP_machinery\t15\tuM assuming ~10000 RNAP molecules / e. coli with a volume 1 um^3\r\n",
        "\te coli\tprotein_RNAase_machinery\t45\tuM assuming ~30000 RNAP molecules / e. coli with a volume 1 um^4\r\n",
        "\te coli\tcellular_processes\t5\tsomewhat arbitary concentration for ~3000 genes in e. coli assuming weak loading on all of them\r\n",
        "\te coli extract\tprotein_Ribo\t24\t1/5 th the Ribosome concentration of E. Coli\r\n",
        "\te coli extract\tprotein_RNAP\t3\t1/5 th the rnap concentration of E. Coli\r\n",
        "\te coli extract\tprotein_RNAase\t6\t1/5 th the rnaase concentration of E. Coli\r\n",
        "\te coli extract 2\tprotein_Ribo\t12\t\r\n",
        "\te coli extract 2\tprotein_RNAP\t6\t\r\n",
        "\te coli extract 2\tprotein_RNAase\t3\t\r\n",
        "\t\tktx\t0.05\ttranscripts / second per polymerase assuming 50nt/s and transcript length of 1000\r\n",
        "\t\tktl\t0.05\tproteins / second per ribosome assuming 15aa/s and protein length of 300\r\n",
        "\t\tcooperativity\t2\tSeems like a good default\r\n",
        "\t\tkb\t100\tassuming 10ms to diffuse across 1um (characteristic cell size)\r\n",
        "\t\tku\t10\t90% binding\r\n",
        "\t\tn\t2\tcooperativity is soemtiems called n\r\n",
        "\t\tkdil\t0.001\tassuming half life of ~20 minutes for everything (e coli doubling time)\r\n",
        "rna_degredation_mm\t\tkdeg\t0.001\tassuming a half life of ~10 minutes for mRNA\r\n",
        "rna_degredation\t\tkdil\t0.001\tassuming a half life of ~10 minutes for mRNA\r\n",
        "simple_transcription\t\tktx\t0.1\tAssuming ~10% of e coli rnap working at ktx above\r\n",
        "simple_translation\t\tktl\t0.25\tAssuming ~5% of e coli ribosomes working at ktx above\r\n",
        "gene_expression\t\tkexpress\t0.28125\tThe product of the above two rates\r\n",
        "negativehill_transcription\t\tk\t0.01875\tEstimates from Repressilator paper and the above numbers\r\n",
        "negativehill_transcription\t\tK\t20\tEstimates from Repressilator paper and the above numbers\r\n",
        "negativehill_transcription\t\tn\t2\tEstimates from Repressilator paper and the above numbers\r\n",
        "negativehill_transcription\t\tkleak\t0.000001\tEstimates from Repressilator paper and the above numbers\r\n",
        "transcription\tJ23103\tku\t588.2352941\tAnderson promoter (17x) strengths are proportional but gain factor is arbitrary\r\n",
        "transcription\tJ23116\tku\t25.25252525\tAnderson promoter (396x) strengths are proportional but gain factor is arbitrary\r\n",
        "transcription\tJ23107\tku\t11.01321586\tAnderson promoter (908x) strengths are proportional but gain factor is arbitrary\r\n",
        "transcription\tJ23106\tku\t8.438818565\tAnderson promoter (1185x) strengths are proportional but gain factor is arbitrary\r\n",
        "transcription\tJ23102\tku\t4.589261129\tAnderson promoter (2179x) strengths are proportional but gain factor is arbitrary\r\n",
        "transcription\tJ23100\tku\t3.926187672\tAnderson promoter (2547x) strengths are proportional but gain factor is arbitrary\r\n",
        "simple_transcription\tJ23103\tktx\t0.0031875\tAbove rescaled by ktx for simple transcription\r\n",
        "simple_transcription\tJ23116\tktx\t0.07425\tAbove rescaled by ktx for simple transcription\r\n",
        "simple_transcription\tJ23107\tktx\t0.17025\tAbove rescaled by ktx for simple transcription\r\n",
        "simple_transcription\tJ23106\tktx\t0.2221875\tAbove rescaled by ktx for simple transcription\r\n",
        "simple_transcription\tJ23102\tktx\t0.4085625\tAbove rescaled by ktx for simple transcription\r\n",
        "simple_transcription\tJ23100\tktx\t0.4775625\tAbove rescaled by ktx for simple transcription\r\n",
        "translation\tBCD2\tku\t0.5\tStrong BCD param value made up\r\n",
        "translation\tBCD8\tku\t10\tWeak BCD param value made up\r\n",
        "translation\tBCD12\tku\t5\tmedium BCD param value made up\r\n",
        "simple_translation\tBCD2\tktl\t0.6\tAbove rescaled by ktl for simple translation\r\n",
        "simple_translation\tBCD8\tktl\t0.075\tAbove rescaled by ktl for simple translation\r\n",
        "simple_translation\tBCD12\tktl\t0.06\tAbove rescaled by ktl for simple translation\r\n",
        "translation\tstrong\tku\t0.5\tStrong BCD param value made up\r\n",
        "translation\tmedium\tku\t5\tWeak BCD param value made up\r\n",
        "translation\tweak\tku\t10\tmedium BCD param value made up\r\n",
        "translation\tvery_weak\tku\t60\tmedium BCD param value made up\r\n",
        "simple_translation\tstrong\tktl\t0.6\tAbove rescaled by ktl for simple translation\r\n",
        "simple_translation\tmedium\tktl\t0.075\tAbove rescaled by ktl for simple translation\r\n",
        "simple_translation\tweak\tktl\t0.06\tAbove rescaled by ktl for simple translation\r\n",
        "simple_translation\tvery weak\tktl\t0.01\tAbove rescaled by ktl for simple translation\r\n",
        "transcription\tweak\tktx\t588.2352941\tAnderson promoter (17x) strengths are proportional but gain factor is arbitrary\r\n",
        "transcription\tmedium\tktx\t8.438818565\tAnderson promoter (1185x) strengths are proportional but gain factor is arbitrary\r\n",
        "transcription\tstrong\tktx\t3.926187672\tAnderson promoter (2547x) strengths are proportional but gain factor is arbitrary\r\n",
        "simple_transcription\tweak\tktx\t0.0031875\tAbove rescaled by ktx for simple transcription\r\n",
        "simple_transcription\tmedium\tktx\t0.2221875\tAbove rescaled by ktx for simple transcription\r\n",
        "simple_transcription\tstrong\tktx\t0.4775625\tAbove rescaled by ktx for simple transcription\r\n",
        "\tcombinatorial_promoter_leak\tktx\t0.0005\t1% of ktx default\r\n",
        "\tcombinatorial_promoter_leak\tkexpress\t0.0028125\t1% of kexpress default\r\n",
        "\tregulated_promoter_leak\tktx\t0.0005\t1% of ktx default\r\n",
        "\tregulated_promoter_leak\tkexpress\t0.0028125\t1% of kexpress default\r\n",
        "deg_tagged_degredation\t\tkdeg\t0.1\t\r\n",
        "\t\tkcat\t.2\tuse with caution - this depends a lot on what is being catalyzed!\"\"\")\r\n",
        "f.close()"
      ],
      "execution_count": null,
      "outputs": []
    },
    {
      "cell_type": "code",
      "metadata": {
        "id": "fasWxcDYiG44"
      },
      "source": [
        "# Create Param Dict\r\n",
        "kb, ku, ktx, ktl, kdeg, cooperativity = 100, 10, 3, 2, 1, 1\r\n",
        "kb_dcas_grna, ku_dcas_rgna = 100, .01  # binding constants for dCas9 and Guide RNAs\r\n",
        "kb_dcas_dna, ku_dcas_dna = 100, .1\r\n",
        "parameters = {\"kb\": kb, \"ku\": ku, \"ktx\": ktx, \"ktl\": ktl, \"kdeg\": kdeg, \"cooperativity\": cooperativity,\r\n",
        "              # default params\r\n",
        "              (\"dCas9_binding\", \"kb\"): kb_dcas_grna, (\"dCas9_binding\", \"ku\"): ku_dcas_rgna,\r\n",
        "              # binding constants for gRNA and dCas9\r\n",
        "              (\"dCas9_dna_binding\", \"kb\"): kb_dcas_dna, (\"dCas9_dna_binding\", \"ku\"): ku_dcas_dna,\r\n",
        "              # binding constants for DNA and dcas-guide complex\r\n",
        "              }\r\n",
        "\r\n"
      ],
      "execution_count": null,
      "outputs": []
    },
    {
      "cell_type": "code",
      "metadata": {
        "colab": {
          "base_uri": "https://localhost:8080/",
          "height": 248
        },
        "id": "mb6TRofSiG_9",
        "outputId": "8c560fb2-6e45-4a83-e472-be2f4ad4460c"
      },
      "source": [
        "# Create an assembly to express dCas9\r\n",
        "const_dCas_assembly = DNAassembly(\"dCas9\", promoter=\"P\", rbs=\"BCD\")\r\n",
        "# Get the dCas Species. Note: This could also be defined above and passed into the assembly as protein=...\r\n",
        "_protein=Species['_protein']\r\n",
        "dCas = const_dCas_assembly._protein\r\n",
        "# Create a Guide RNA Guide1\r\n",
        "gRNA = guideRNA(\"guide1\", dCas=dCas)\r\n",
        "# Create an assembly to express the guide RNA\r\n",
        "const_gRNA_assembly = DNAassembly(\"gRNA\", transcript=gRNA, promoter=\"P\", rbs=None)\r\n",
        "\r\n",
        "# Get the guideRNA:dCas9 complex\r\n",
        "repressor = gRNA.get_dCasComplex()\r\n",
        "# set the unbinding  rate of the repressor dna complex with rnap to be very high (preventing transcription)\r\n",
        "parameters[(\"transcription\", repressor.name, \"ku\")] = 10000\r\n",
        "# set the RNAP transcription rate lower when gRNA:dCAS9 is bound\r\n",
        "parameters[(\"transcription\", repressor.name, \"ktx\")] = .1\r\n",
        "\r\n",
        "# Create a Promoter regulated by the repressor\r\n",
        "P_reg = RegulatedPromoter(\"P_regulated\", regulators=[repressor], leak=True)\r\n",
        "P_reg.default_mechanisms['binding'] = Reversible_Bimolecular_Binding(\"dCas9_dna_binding\")\r\n",
        "# Create an assembly with the regulated promoter\r\n",
        "reg_assembly = DNAassembly(name=\"reporter\", promoter=P_reg, rbs=\"BCD\")\r\n",
        "\r\n",
        "# Create a list of components to add to the mixture (these could also be added one-by-one with Mixture.add_component(...)\r\n",
        "components = [const_dCas_assembly, const_gRNA_assembly, gRNA, reg_assembly]\r\n",
        "\r\n",
        "# Create a BasicExtract Mixture\r\n",
        "reaction_mix = BasicExtract(\"txtl\", components=components, parameters=parameters)"
      ],
      "execution_count": null,
      "outputs": [
        {
          "output_type": "error",
          "ename": "TypeError",
          "evalue": "ignored",
          "traceback": [
            "\u001b[0;31m---------------------------------------------------------------------------\u001b[0m",
            "\u001b[0;31mTypeError\u001b[0m                                 Traceback (most recent call last)",
            "\u001b[0;32m<ipython-input-5-186e007ae4e5>\u001b[0m in \u001b[0;36m<module>\u001b[0;34m()\u001b[0m\n\u001b[1;32m      2\u001b[0m \u001b[0mconst_dCas_assembly\u001b[0m \u001b[0;34m=\u001b[0m \u001b[0mDNAassembly\u001b[0m\u001b[0;34m(\u001b[0m\u001b[0;34m\"dCas9\"\u001b[0m\u001b[0;34m,\u001b[0m \u001b[0mpromoter\u001b[0m\u001b[0;34m=\u001b[0m\u001b[0;34m\"P\"\u001b[0m\u001b[0;34m,\u001b[0m \u001b[0mrbs\u001b[0m\u001b[0;34m=\u001b[0m\u001b[0;34m\"BCD\"\u001b[0m\u001b[0;34m)\u001b[0m\u001b[0;34m\u001b[0m\u001b[0;34m\u001b[0m\u001b[0m\n\u001b[1;32m      3\u001b[0m \u001b[0;31m# Get the dCas Species. Note: This could also be defined above and passed into the assembly as protein=...\u001b[0m\u001b[0;34m\u001b[0m\u001b[0;34m\u001b[0m\u001b[0;34m\u001b[0m\u001b[0m\n\u001b[0;32m----> 4\u001b[0;31m \u001b[0m_protein\u001b[0m\u001b[0;34m=\u001b[0m\u001b[0mSpecies\u001b[0m\u001b[0;34m[\u001b[0m\u001b[0;34m'_protein'\u001b[0m\u001b[0;34m]\u001b[0m\u001b[0;34m\u001b[0m\u001b[0;34m\u001b[0m\u001b[0m\n\u001b[0m\u001b[1;32m      5\u001b[0m \u001b[0mdCas\u001b[0m \u001b[0;34m=\u001b[0m \u001b[0mconst_dCas_assembly\u001b[0m\u001b[0;34m.\u001b[0m\u001b[0m_protein\u001b[0m\u001b[0;34m\u001b[0m\u001b[0;34m\u001b[0m\u001b[0m\n\u001b[1;32m      6\u001b[0m \u001b[0;31m# Create a Guide RNA Guide1\u001b[0m\u001b[0;34m\u001b[0m\u001b[0;34m\u001b[0m\u001b[0;34m\u001b[0m\u001b[0m\n",
            "\u001b[0;31mTypeError\u001b[0m: 'type' object is not subscriptable"
          ]
        }
      ]
    },
    {
      "cell_type": "markdown",
      "metadata": {
        "id": "dgTz5-fa014Z"
      },
      "source": [
        "CRISPRi"
      ]
    },
    {
      "cell_type": "code",
      "metadata": {
        "id": "fErhVwVc-0rT"
      },
      "source": [
        "dCas9 = Species(\"dCas9\")\r\n",
        "gRNA = Species(\"gRNA\",attributes = [\"01\"])\r\n",
        "#use a dictionary to keep track of the relationships, verify compatibility?\r\n",
        "Pro = Species(\"Pro\")\r\n",
        "\r\n",
        "\r\n",
        "C_Cg = Complex([dCas9, gRNA])\r\n",
        "\r\n",
        "C_i = Complex([Pro,C_Cg])\r\n",
        "C_i1=ChemicalComplex([Pro,C_Cg])\r\n",
        "print(C_Cg)\r\n",
        "\r\n",
        "print()"
      ],
      "execution_count": null,
      "outputs": []
    },
    {
      "cell_type": "code",
      "metadata": {
        "colab": {
          "base_uri": "https://localhost:8080/"
        },
        "id": "FCcM6TQaVMYv",
        "outputId": "45fdb08d-0791-4757-9f07-e078047f5c6a"
      },
      "source": [
        "pro_pol= Species(\"pro_pol\")\r\n",
        "E=Species(\"E\")\r\n",
        "S=Species(\"S\")\r\n",
        "P=Species(\"P\")\r\n",
        "f_pol_g=Enzyme(pro_pol, substrate=S, product=gRNA)\r\n",
        "#f_pol_d=Enzyme(dCas9, substrate=gRNA, product=[pro_pol,dCas9])\r\n",
        "f_pol_dCas=Enzyme(pro_pol, substrate=S, product=dCas9)\r\n",
        "dCas9_t=DNAassembly(\"Plasmid_dCas\",\r\n",
        "                    promoter='strong',\r\n",
        "                    rbs='medium',\r\n",
        "                    protein= dCas9,\r\n",
        "                    initial_conc=1)\r\n",
        "M_simple = SimpleTxTlExtract(\"e coli extract\", \r\n",
        "                             components = [dCas9_t],\r\n",
        "                             parameter_file = \"default_parameters.txt\")\r\n",
        "CRN_simple = M_simple.compile_crn()\r\n",
        "print(CRN_simple.pretty_print(show_rates = False))"
      ],
      "execution_count": null,
      "outputs": [
        {
          "output_type": "stream",
          "text": [
            "Species (3) = {0. dna[Plasmid_dCas] init_conc = 1, 1. rna[Plasmid_dCas] init_conc = 0, 2. dCas9 init_conc = 0}\n",
            "\n",
            "Reactions (3) = [\n",
            "0. dna[Plasmid_dCas] --> dna[Plasmid_dCas]+rna[Plasmid_dCas]\n",
            "1. rna[Plasmid_dCas] --> rna[Plasmid_dCas]+dCas9\n",
            "2. rna[Plasmid_dCas] --> \n",
            "]\n"
          ],
          "name": "stdout"
        }
      ]
    },
    {
      "cell_type": "code",
      "metadata": {
        "id": "1wrgjWfNHOTA"
      },
      "source": [
        "kf1=10 #some function of concentration, the binding sequence etc \r\n",
        "kr1=1\r\n",
        "R1=Reaction.from_massaction([dCas9,gRNA],[C_Cg],k_forward= kf1, k_reverse=kr1)\r\n",
        "\r\n",
        "kf2=10 \r\n",
        "kr2=1\r\n",
        "R2=Reaction.from_massaction([C_Cg,Pro],[C_i],k_forward= kf2, k_reverse=kr2)"
      ],
      "execution_count": null,
      "outputs": []
    },
    {
      "cell_type": "code",
      "metadata": {
        "id": "CnF5w2BLJabK"
      },
      "source": [
        "E=Species(\"E\")\r\n",
        "S=Species(\"S\")\r\n",
        "P=Species(\"P\")\r\n",
        "\r\n",
        "kf3=0.1 \r\n",
        "kr3=0.1\r\n",
        "R3=Reaction.from_massaction([S,Pro],[P,Pro],k_forward= kf3, k_reverse=kr3)\r\n",
        "\r\n",
        "kf4=10 \r\n",
        "kr4=1\r\n",
        "R4=Reaction.from_massaction([S,C_i],[P,C_i],k_forward= kf4, k_reverse=kr4)\r\n",
        "\r\n",
        "CRN = ChemicalReactionNetwork(species = [E,S,C_i,P,Pro,dCas9,gRNA,C_Cg], reactions = [R1, R2,R3,R4])\r\n"
      ],
      "execution_count": null,
      "outputs": []
    },
    {
      "cell_type": "code",
      "metadata": {
        "colab": {
          "base_uri": "https://localhost:8080/"
        },
        "id": "S-TWb2-c45l9",
        "outputId": "d45d102b-01ef-4e6b-9897-70be95122a2a"
      },
      "source": [
        "print(type(R1))\r\n",
        "print(type(dCas9_t))\r\n",
        "print(type(E))"
      ],
      "execution_count": null,
      "outputs": [
        {
          "output_type": "stream",
          "text": [
            "<class 'biocrnpyler.reaction.Reaction'>\n",
            "<class 'biocrnpyler.dna_assembly.DNAassembly'>\n",
            "<class 'biocrnpyler.species.Species'>\n"
          ],
          "name": "stdout"
        }
      ]
    },
    {
      "cell_type": "code",
      "metadata": {
        "colab": {
          "base_uri": "https://localhost:8080/",
          "height": 408
        },
        "id": "HffKsdfnojE8",
        "outputId": "fce47d30-cc17-4467-fb1a-0f28ae0203d1"
      },
      "source": [
        "M_simple = SimpleTxTlExtract(\"e coli extract\", \r\n",
        "                             components = [dCas9_t,R1],\r\n",
        "                             parameter_file = \"default_parameters.txt\")\r\n",
        "CRN_simple = M_simple.compile_crn()\r\n",
        "print(CRN_simple.pretty_print(show_rates = True))"
      ],
      "execution_count": null,
      "outputs": [
        {
          "output_type": "error",
          "ename": "AssertionError",
          "evalue": "ignored",
          "traceback": [
            "\u001b[0;31m---------------------------------------------------------------------------\u001b[0m",
            "\u001b[0;31mAssertionError\u001b[0m                            Traceback (most recent call last)",
            "\u001b[0;32m<ipython-input-25-1c0e63353d9b>\u001b[0m in \u001b[0;36m<module>\u001b[0;34m()\u001b[0m\n\u001b[1;32m      1\u001b[0m M_simple = SimpleTxTlExtract(\"e coli extract\", \n\u001b[1;32m      2\u001b[0m                              \u001b[0mcomponents\u001b[0m \u001b[0;34m=\u001b[0m \u001b[0;34m[\u001b[0m\u001b[0mdCas9_t\u001b[0m\u001b[0;34m,\u001b[0m\u001b[0mR1\u001b[0m\u001b[0;34m]\u001b[0m\u001b[0;34m,\u001b[0m\u001b[0;34m\u001b[0m\u001b[0;34m\u001b[0m\u001b[0m\n\u001b[0;32m----> 3\u001b[0;31m                              parameter_file = \"default_parameters.txt\")\n\u001b[0m\u001b[1;32m      4\u001b[0m \u001b[0mCRN_simple\u001b[0m \u001b[0;34m=\u001b[0m \u001b[0mM_simple\u001b[0m\u001b[0;34m.\u001b[0m\u001b[0mcompile_crn\u001b[0m\u001b[0;34m(\u001b[0m\u001b[0;34m)\u001b[0m\u001b[0;34m\u001b[0m\u001b[0;34m\u001b[0m\u001b[0m\n\u001b[1;32m      5\u001b[0m \u001b[0mprint\u001b[0m\u001b[0;34m(\u001b[0m\u001b[0mCRN_simple\u001b[0m\u001b[0;34m.\u001b[0m\u001b[0mpretty_print\u001b[0m\u001b[0;34m(\u001b[0m\u001b[0mshow_rates\u001b[0m \u001b[0;34m=\u001b[0m \u001b[0;32mTrue\u001b[0m\u001b[0;34m)\u001b[0m\u001b[0;34m)\u001b[0m\u001b[0;34m\u001b[0m\u001b[0;34m\u001b[0m\u001b[0m\n",
            "\u001b[0;32m/usr/local/lib/python3.6/dist-packages/biocrnpyler/mixtures_extract.py\u001b[0m in \u001b[0;36m__init__\u001b[0;34m(self, name, **kwargs)\u001b[0m\n\u001b[1;32m     76\u001b[0m         \"\"\"\n\u001b[1;32m     77\u001b[0m         \u001b[0;31m# Always call the superlcass Mixture.__init__(...)\u001b[0m\u001b[0;34m\u001b[0m\u001b[0;34m\u001b[0m\u001b[0;34m\u001b[0m\u001b[0m\n\u001b[0;32m---> 78\u001b[0;31m         \u001b[0mMixture\u001b[0m\u001b[0;34m.\u001b[0m\u001b[0m__init__\u001b[0m\u001b[0;34m(\u001b[0m\u001b[0mself\u001b[0m\u001b[0;34m,\u001b[0m \u001b[0mname\u001b[0m\u001b[0;34m=\u001b[0m\u001b[0mname\u001b[0m\u001b[0;34m,\u001b[0m \u001b[0;34m**\u001b[0m\u001b[0mkwargs\u001b[0m\u001b[0;34m)\u001b[0m\u001b[0;34m\u001b[0m\u001b[0;34m\u001b[0m\u001b[0m\n\u001b[0m\u001b[1;32m     79\u001b[0m \u001b[0;34m\u001b[0m\u001b[0m\n\u001b[1;32m     80\u001b[0m         \u001b[0;31m# TxTl Mechanisms\u001b[0m\u001b[0;34m\u001b[0m\u001b[0;34m\u001b[0m\u001b[0;34m\u001b[0m\u001b[0m\n",
            "\u001b[0;32m/usr/local/lib/python3.6/dist-packages/biocrnpyler/mixture.py\u001b[0m in \u001b[0;36m__init__\u001b[0;34m(self, name, mechanisms, components, parameters, parameter_file, global_mechanisms, species, initial_condition_dictionary, **kwargs)\u001b[0m\n\u001b[1;32m     38\u001b[0m             \u001b[0mself\u001b[0m\u001b[0;34m.\u001b[0m\u001b[0mcomponents\u001b[0m \u001b[0;34m=\u001b[0m \u001b[0;34m[\u001b[0m\u001b[0;34m]\u001b[0m\u001b[0;34m\u001b[0m\u001b[0;34m\u001b[0m\u001b[0m\n\u001b[1;32m     39\u001b[0m         \u001b[0;32melse\u001b[0m\u001b[0;34m:\u001b[0m\u001b[0;34m\u001b[0m\u001b[0;34m\u001b[0m\u001b[0m\n\u001b[0;32m---> 40\u001b[0;31m             \u001b[0mself\u001b[0m\u001b[0;34m.\u001b[0m\u001b[0madd_components\u001b[0m\u001b[0;34m(\u001b[0m\u001b[0mcomponents\u001b[0m\u001b[0;34m)\u001b[0m\u001b[0;34m\u001b[0m\u001b[0;34m\u001b[0m\u001b[0m\n\u001b[0m\u001b[1;32m     41\u001b[0m \u001b[0;34m\u001b[0m\u001b[0m\n\u001b[1;32m     42\u001b[0m         \u001b[0;31m# process mechanisms:\u001b[0m\u001b[0;34m\u001b[0m\u001b[0;34m\u001b[0m\u001b[0;34m\u001b[0m\u001b[0m\n",
            "\u001b[0;32m/usr/local/lib/python3.6/dist-packages/biocrnpyler/mixture.py\u001b[0m in \u001b[0;36madd_components\u001b[0;34m(self, components)\u001b[0m\n\u001b[1;32m    153\u001b[0m         \u001b[0;32melif\u001b[0m \u001b[0misinstance\u001b[0m\u001b[0;34m(\u001b[0m\u001b[0mcomponents\u001b[0m\u001b[0;34m,\u001b[0m \u001b[0mList\u001b[0m\u001b[0;34m)\u001b[0m\u001b[0;34m:\u001b[0m\u001b[0;34m\u001b[0m\u001b[0;34m\u001b[0m\u001b[0m\n\u001b[1;32m    154\u001b[0m             \u001b[0;32mfor\u001b[0m \u001b[0mcomponent\u001b[0m \u001b[0;32min\u001b[0m \u001b[0mcomponents\u001b[0m\u001b[0;34m:\u001b[0m\u001b[0;34m\u001b[0m\u001b[0;34m\u001b[0m\u001b[0m\n\u001b[0;32m--> 155\u001b[0;31m                 \u001b[0mself\u001b[0m\u001b[0;34m.\u001b[0m\u001b[0madd_component\u001b[0m\u001b[0;34m(\u001b[0m\u001b[0mcomponent\u001b[0m\u001b[0;34m)\u001b[0m\u001b[0;34m\u001b[0m\u001b[0;34m\u001b[0m\u001b[0m\n\u001b[0m\u001b[1;32m    156\u001b[0m         \u001b[0;32melse\u001b[0m\u001b[0;34m:\u001b[0m\u001b[0;34m\u001b[0m\u001b[0;34m\u001b[0m\u001b[0m\n\u001b[1;32m    157\u001b[0m             \u001b[0;32mraise\u001b[0m \u001b[0mValueError\u001b[0m\u001b[0;34m(\u001b[0m\u001b[0;34mf\"add_components expected a list of Components. Received {components}\"\u001b[0m\u001b[0;34m)\u001b[0m\u001b[0;34m\u001b[0m\u001b[0;34m\u001b[0m\u001b[0m\n",
            "\u001b[0;32m/usr/local/lib/python3.6/dist-packages/biocrnpyler/mixture.py\u001b[0m in \u001b[0;36madd_component\u001b[0;34m(self, component)\u001b[0m\n\u001b[1;32m    121\u001b[0m             \u001b[0mself\u001b[0m\u001b[0;34m.\u001b[0m\u001b[0madd_components\u001b[0m\u001b[0;34m(\u001b[0m\u001b[0mcomponent\u001b[0m\u001b[0;34m)\u001b[0m\u001b[0;34m\u001b[0m\u001b[0;34m\u001b[0m\u001b[0m\n\u001b[1;32m    122\u001b[0m         \u001b[0;32melse\u001b[0m\u001b[0;34m:\u001b[0m\u001b[0;34m\u001b[0m\u001b[0;34m\u001b[0m\u001b[0m\n\u001b[0;32m--> 123\u001b[0;31m             \u001b[0;32massert\u001b[0m \u001b[0misinstance\u001b[0m\u001b[0;34m(\u001b[0m\u001b[0mcomponent\u001b[0m\u001b[0;34m,\u001b[0m \u001b[0mComponent\u001b[0m\u001b[0;34m)\u001b[0m\u001b[0;34m,\u001b[0m \u001b[0;34m\"the object: %s passed into mixture as component must be of the class Component\"\u001b[0m \u001b[0;34m%\u001b[0m \u001b[0mstr\u001b[0m\u001b[0;34m(\u001b[0m\u001b[0mcomponent\u001b[0m\u001b[0;34m)\u001b[0m\u001b[0;34m\u001b[0m\u001b[0;34m\u001b[0m\u001b[0m\n\u001b[0m\u001b[1;32m    124\u001b[0m \u001b[0;34m\u001b[0m\u001b[0m\n\u001b[1;32m    125\u001b[0m             \u001b[0;31m# Check if component is already in self._components\u001b[0m\u001b[0;34m\u001b[0m\u001b[0;34m\u001b[0m\u001b[0;34m\u001b[0m\u001b[0m\n",
            "\u001b[0;31mAssertionError\u001b[0m: the object: dCas9+gRNA <--> complex[dCas9:gRNA] passed into mixture as component must be of the class Component"
          ]
        }
      ]
    },
    {
      "cell_type": "code",
      "metadata": {
        "colab": {
          "base_uri": "https://localhost:8080/"
        },
        "id": "0iDz7OuJJdQY",
        "outputId": "bec89973-a167-4873-c263-9a909b3644c7"
      },
      "source": [
        "print(CRN.pretty_print(show_rates = True))"
      ],
      "execution_count": null,
      "outputs": [
        {
          "output_type": "stream",
          "text": [
            "Species (8) = {0. E init_conc = 0, 1. S init_conc = 0, 2. complex[Pro:complex[dCas9:gRNA]] init_conc = 0, 3. P init_conc = 0, 4. Pro init_conc = 0, 5. dCas9 init_conc = 0, 6. gRNA init_conc = 0, 7. complex[dCas9:gRNA] init_conc = 0}\n",
            "\n",
            "Reactions (4) = [\n",
            "0. dCas9+gRNA <--> complex[dCas9:gRNA]\n",
            " Kf=k_forward * dCas9 * gRNA\n",
            " Kr=k_reverse * complex_dCas9_gRNA_\n",
            "  k_forward=10\n",
            "  k_reverse=1\n",
            "\n",
            "1. complex[dCas9:gRNA]+Pro <--> complex[Pro:complex[dCas9:gRNA]]\n",
            " Kf=k_forward * complex_dCas9_gRNA_ * Pro\n",
            " Kr=k_reverse * complex_Pro_complex_dCas9_gRNA__\n",
            "  k_forward=10\n",
            "  k_reverse=1\n",
            "\n",
            "2. S+Pro <--> P+Pro\n",
            " Kf=k_forward * S * Pro\n",
            " Kr=k_reverse * P * Pro\n",
            "  k_forward=0.1\n",
            "  k_reverse=0.1\n",
            "\n",
            "3. S+complex[Pro:complex[dCas9:gRNA]] <--> P+complex[Pro:complex[dCas9:gRNA]]\n",
            " Kf=k_forward * S * complex_Pro_complex_dCas9_gRNA__\n",
            " Kr=k_reverse * P * complex_Pro_complex_dCas9_gRNA__\n",
            "  k_forward=10\n",
            "  k_reverse=1\n",
            "\n",
            "]\n"
          ],
          "name": "stdout"
        }
      ]
    },
    {
      "cell_type": "code",
      "metadata": {
        "colab": {
          "base_uri": "https://localhost:8080/",
          "height": 571
        },
        "id": "at2z_HXWL5nh",
        "outputId": "5937da40-4357-4c4b-a7ed-3249945b3f84"
      },
      "source": [
        "CRN.write_sbml_file(\"CRISPRi.xml\")\r\n",
        "try:\r\n",
        "    import bioscrape\r\n",
        "    import numpy as np\r\n",
        "    import pylab as plt\r\n",
        "    import pandas as pd\r\n",
        "    \r\n",
        "    #Initial conditions can be set with a dictionary:\r\n",
        "    x0 = {str(E):1,str(S):10, str(Pro):1,str(dCas9):10,str(gRNA):10}\r\n",
        "    timepoints = np.linspace(0, 5, 100)#Timepoints to simulate over\r\n",
        "    print(x0)\r\n",
        "    print(timepoints)\r\n",
        "    #This function can also take a filename keyword to save the file at the same time\r\n",
        "    R = CRN.simulate_with_bioscrape_via_sbml(timepoints = timepoints, initial_condition_dict = x0)\r\n",
        "\r\n",
        "    #Check to ensure simulation worked\r\n",
        "    #Results are in a Pandas Dictionary and can be accessed via string-names of species\r\n",
        "    #plt.plot(R['time'], R[str(E)], label = str(E))\r\n",
        "    plt.plot(R['time'], R[str(S)], label = str(S))\r\n",
        "    plt.plot(R['time'], R[str(P)], label = str(P))\r\n",
        "    plt.plot(R['time'], R[str(Pro)], label = str(Pro))\r\n",
        "    plt.plot(R['time'], R[str(dCas9)], label = str(dCas9))\r\n",
        "    plt.plot(R['time'], R[str(C_Cg)], label = str(C_Cg))\r\n",
        "    plt.plot(R['time'], R[str(C_i)], label = str(C_i))\r\n",
        "    plt.legend()\r\n",
        "    \r\n",
        "except ModuleNotFoundError:\r\n",
        "    print(\"Plotting Modules not installed.\")"
      ],
      "execution_count": null,
      "outputs": [
        {
          "output_type": "stream",
          "text": [
            "{'E': 1, 'S': 10, 'Pro': 1, 'dCas9': 10, 'gRNA': 10}\n",
            "[0.         0.05050505 0.1010101  0.15151515 0.2020202  0.25252525\n",
            " 0.3030303  0.35353535 0.4040404  0.45454545 0.50505051 0.55555556\n",
            " 0.60606061 0.65656566 0.70707071 0.75757576 0.80808081 0.85858586\n",
            " 0.90909091 0.95959596 1.01010101 1.06060606 1.11111111 1.16161616\n",
            " 1.21212121 1.26262626 1.31313131 1.36363636 1.41414141 1.46464646\n",
            " 1.51515152 1.56565657 1.61616162 1.66666667 1.71717172 1.76767677\n",
            " 1.81818182 1.86868687 1.91919192 1.96969697 2.02020202 2.07070707\n",
            " 2.12121212 2.17171717 2.22222222 2.27272727 2.32323232 2.37373737\n",
            " 2.42424242 2.47474747 2.52525253 2.57575758 2.62626263 2.67676768\n",
            " 2.72727273 2.77777778 2.82828283 2.87878788 2.92929293 2.97979798\n",
            " 3.03030303 3.08080808 3.13131313 3.18181818 3.23232323 3.28282828\n",
            " 3.33333333 3.38383838 3.43434343 3.48484848 3.53535354 3.58585859\n",
            " 3.63636364 3.68686869 3.73737374 3.78787879 3.83838384 3.88888889\n",
            " 3.93939394 3.98989899 4.04040404 4.09090909 4.14141414 4.19191919\n",
            " 4.24242424 4.29292929 4.34343434 4.39393939 4.44444444 4.49494949\n",
            " 4.54545455 4.5959596  4.64646465 4.6969697  4.74747475 4.7979798\n",
            " 4.84848485 4.8989899  4.94949495 5.        ]\n"
          ],
          "name": "stdout"
        },
        {
          "output_type": "display_data",
          "data": {
            "image/png": "[encoded data removed]",
            "text/plain": [
              "<Figure size 432x288 with 1 Axes>"
            ]
          },
          "metadata": {
            "tags": [],
            "needs_background": "light"
          }
        }
      ]
    },
    {
      "cell_type": "code",
      "metadata": {
        "id": "uOv2xBEvM50Q"
      },
      "source": [
        ""
      ],
      "execution_count": null,
      "outputs": []
    }
  ]
}